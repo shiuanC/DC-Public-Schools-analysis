{
  "cells": [
    {
      "cell_type": "code",
      "execution_count": 2,
      "id": "62564110",
      "metadata": {
        "id": "62564110"
      },
      "outputs": [],
      "source": [
        "import pandas as pd\n",
        "import numpy as np\n",
        "\n",
        "from itertools import combinations"
      ]
    },
    {
      "cell_type": "markdown",
      "id": "7f3b69db",
      "metadata": {
        "id": "7f3b69db"
      },
      "source": [
        "# Merging STAR, NCES, and Diveristy data "
      ]
    },
    {
      "cell_type": "markdown",
      "id": "230d1ccc",
      "metadata": {
        "id": "230d1ccc"
      },
      "source": [
        "Read in previous processed data files as a pandas dataframe"
      ]
    },
    {
      "cell_type": "code",
      "execution_count": 3,
      "id": "202493ac",
      "metadata": {
        "id": "202493ac"
      },
      "outputs": [],
      "source": [
        "\n",
        "star = pd.read_csv(\"../Dataset/final_data/star.csv\")\n",
        "nces = pd.read_csv(\"../Dataset/final_data/nces.csv\")\n",
        "diversity = pd.read_csv(\"../Dataset/final_data/diversity.csv\")\n"
      ]
    },
    {
      "cell_type": "code",
      "execution_count": 4,
      "id": "f1424224",
      "metadata": {
        "colab": {
          "base_uri": "https://localhost:8080/"
        },
        "id": "f1424224",
        "outputId": "1238b244-d597-4bd3-ac5f-3c493fa33efb"
      },
      "outputs": [
        {
          "output_type": "execute_result",
          "data": {
            "text/plain": [
              "[['School_Code', 'schoolid_stateassigned'],\n",
              " ['School_Code', 'diversity_School_Code'],\n",
              " ['schoolid_stateassigned', 'diversity_School_Code'],\n",
              " ['schtype_raw_DC', 'diversity_Entity_Type'],\n",
              " ['distid_stateassigned', 'diversity_LEA_Code']]"
            ]
          },
          "metadata": {},
          "execution_count": 4
        }
      ],
      "source": [
        "all_df = star.merge(nces, left_on='School_Code', right_on='schoolid_stateassigned')\n",
        "all_df = all_df.merge(diversity.add_prefix('diversity_'), left_on='School_Code', right_on='diversity_School_Code')\n",
        "\n",
        "[[i, j] for i,j in combinations(all_df, 2) if all_df[i].equals(all_df[j])]"
      ]
    },
    {
      "cell_type": "code",
      "execution_count": 5,
      "id": "53109945",
      "metadata": {
        "colab": {
          "base_uri": "https://localhost:8080/"
        },
        "id": "53109945",
        "outputId": "177d864e-0bf9-4a40-eaff-3ed7e9a03150"
      },
      "outputs": [
        {
          "output_type": "stream",
          "name": "stdout",
          "text": [
            "<class 'pandas.core.frame.DataFrame'>\n",
            "Int64Index: 231 entries, 0 to 230\n",
            "Data columns (total 43 columns):\n",
            " #   Column                                                                                         Non-Null Count  Dtype  \n",
            "---  ------                                                                                         --------------  -----  \n",
            " 0   Unnamed: 0_x                                                                                   231 non-null    int64  \n",
            " 1   School_Code                                                                                    231 non-null    int64  \n",
            " 2   STAR_Score_18                                                                                  231 non-null    float64\n",
            " 3   STAR_Rating_18                                                                                 231 non-null    int64  \n",
            " 4   STAR_Score_19                                                                                  231 non-null    int64  \n",
            " 5   STAR_Rating_19                                                                                 231 non-null    int64  \n",
            " 6   STAR_Score_inc                                                                                 231 non-null    int64  \n",
            " 7   STAR_Score_change                                                                              231 non-null    float64\n",
            " 8   STAR_Rating_change                                                                             231 non-null    float64\n",
            " 9   Unnamed: 0_y                                                                                   231 non-null    int64  \n",
            " 10  schoolname                                                                                     231 non-null    object \n",
            " 11  level                                                                                          230 non-null    float64\n",
            " 12  schtype_raw_DC                                                                                 231 non-null    object \n",
            " 13  Dist_Code                                                                                      231 non-null    int64  \n",
            " 14  distname                                                                                       231 non-null    object \n",
            " 15  pp_total_raw_DC_1819                                                                           231 non-null    float64\n",
            " 16  pp_site_raw_DC_1819                                                                            193 non-null    float64\n",
            " 17  pp_centshare_raw_DC_1819                                                                       193 non-null    float64\n",
            " 18  schoolstloc_raw_DC_1819                                                                        231 non-null    float64\n",
            " 19  enroll_raw_DC_1819                                                                             231 non-null    float64\n",
            " 20  pp_total_raw_DC_1920                                                                           230 non-null    float64\n",
            " 21  pp_site_raw_DC_1920                                                                            193 non-null    float64\n",
            " 22  pp_centshare_raw_DC_1920                                                                       193 non-null    float64\n",
            " 23  schoolstloc_raw_DC_1920                                                                        230 non-null    float64\n",
            " 24  enroll_raw_DC_1920                                                                             230 non-null    float64\n",
            " 25  pp_total_raw_DC_inc(%)                                                                         231 non-null    float64\n",
            " 26  pp_total_raw_DC_inc                                                                            230 non-null    float64\n",
            " 27  pp_site_raw_DC_inc(%)                                                                          193 non-null    float64\n",
            " 28  pp_site_raw_DC_inc                                                                             193 non-null    float64\n",
            " 29  pp_centshare_raw_DC_inc(%)                                                                     190 non-null    float64\n",
            " 30  pp_centshare_raw_DC_inc                                                                        193 non-null    float64\n",
            " 31  schoolstloc_raw_DC_inc(%)                                                                      231 non-null    float64\n",
            " 32  schoolstloc_raw_DC_inc                                                                         230 non-null    float64\n",
            " 33  enroll_raw_DC_inc(%)                                                                           231 non-null    float64\n",
            " 34  enroll_raw_DC_inc                                                                              230 non-null    float64\n",
            " 35  diversity_Unnamed: 0                                                                           231 non-null    int64  \n",
            " 36  Ward                                                                                           231 non-null    int64  \n",
            " 37  Total_Count_of_Students                                                                        231 non-null    int64  \n",
            " 38  diversity_At-Risk_(%)                                                                          231 non-null    int64  \n",
            " 39  diversity_Socieconomic_Diversity_Score,_2018-19_(%)                                            231 non-null    int64  \n",
            " 40  diversity_Socieconomic_Diversity_Score,_2016-17_(%)                                            231 non-null    float64\n",
            " 41  diversity_Change_in_Socieconomic_Diversity_Score,_from_2016-17_to_2018-19_(percentage_points)  231 non-null    float64\n",
            " 42  diversity_risk_level                                                                           231 non-null    int64  \n",
            "dtypes: float64(26), int64(14), object(3)\n",
            "memory usage: 79.4+ KB\n"
          ]
        }
      ],
      "source": [
        "final_drop_cols = ['schoolid_stateassigned', 'diversity_School_Code', 'diversity_Entity_Type', 'diversity_LEA_Code', \\\n",
        "                   'diversity_Not_at-risk_(%)', 'year_1819', 'year_1920', 'diversity_LEA_Name', 'diversity_School_Name',\\\n",
        "                   'diversity_Most_socioeconomically_diverse_flag', 'diversity_Majority_group']\n",
        "all_df = all_df.drop(final_drop_cols, axis=1)\n",
        "all_df.rename(columns = {'distid_stateassigned':'Dist_Code', \n",
        "                         'diversity_Total_Count_of_Students': 'Total_Count_of_Students', \n",
        "                         'diversity_Ward': 'Ward'}, inplace = True)\n",
        "all_df.info()"
      ]
    },
    {
      "cell_type": "code",
      "execution_count": 6,
      "id": "23b92fd7",
      "metadata": {
        "id": "23b92fd7"
      },
      "outputs": [],
      "source": [
        "all_df['STAR_Score_inc'] = all_df.STAR_Score_18 - all_df.STAR_Score_19\n",
        "all_df['STAR_Score_inc(%)'] = all_df[['STAR_Score_18', 'STAR_Score_19']].pct_change(axis='columns', periods=-1)['STAR_Score_18']\n",
        "all_df['STAR_Rating_inc'] = all_df.STAR_Rating_18 - all_df.STAR_Rating_19\n",
        "all_df['STAR_Rating_inc(%)'] = all_df[['STAR_Rating_18', 'STAR_Rating_19']].pct_change(axis='columns', periods=-1)['STAR_Rating_18']"
      ]
    },
    {
      "cell_type": "code",
      "execution_count": 7,
      "id": "f6467415",
      "metadata": {
        "colab": {
          "base_uri": "https://localhost:8080/"
        },
        "id": "f6467415",
        "outputId": "b75f3213-e918-44ef-822e-3c98d2c49884"
      },
      "outputs": [
        {
          "output_type": "execute_result",
          "data": {
            "text/plain": [
              "Index(['Unnamed: 0_x', 'School_Code', 'STAR_Score_18', 'STAR_Rating_18',\n",
              "       'STAR_Score_19', 'STAR_Rating_19', 'STAR_Score_inc',\n",
              "       'STAR_Score_change', 'STAR_Rating_change', 'Unnamed: 0_y', 'schoolname',\n",
              "       'level', 'schtype_raw_DC', 'Dist_Code', 'distname',\n",
              "       'pp_total_raw_DC_1819', 'pp_site_raw_DC_1819',\n",
              "       'pp_centshare_raw_DC_1819', 'schoolstloc_raw_DC_1819',\n",
              "       'enroll_raw_DC_1819', 'pp_total_raw_DC_1920', 'pp_site_raw_DC_1920',\n",
              "       'pp_centshare_raw_DC_1920', 'schoolstloc_raw_DC_1920',\n",
              "       'enroll_raw_DC_1920', 'pp_total_raw_DC_inc(%)', 'pp_total_raw_DC_inc',\n",
              "       'pp_site_raw_DC_inc(%)', 'pp_site_raw_DC_inc',\n",
              "       'pp_centshare_raw_DC_inc(%)', 'pp_centshare_raw_DC_inc',\n",
              "       'schoolstloc_raw_DC_inc(%)', 'schoolstloc_raw_DC_inc',\n",
              "       'enroll_raw_DC_inc(%)', 'enroll_raw_DC_inc', 'diversity_Unnamed: 0',\n",
              "       'Ward', 'Total_Count_of_Students', 'diversity_At-Risk_(%)',\n",
              "       'diversity_Socieconomic_Diversity_Score,_2018-19_(%)',\n",
              "       'diversity_Socieconomic_Diversity_Score,_2016-17_(%)',\n",
              "       'diversity_Change_in_Socieconomic_Diversity_Score,_from_2016-17_to_2018-19_(percentage_points)',\n",
              "       'diversity_risk_level', 'STAR_Score_inc(%)', 'STAR_Rating_inc',\n",
              "       'STAR_Rating_inc(%)'],\n",
              "      dtype='object')"
            ]
          },
          "metadata": {},
          "execution_count": 7
        }
      ],
      "source": [
        "all_df.columns"
      ]
    },
    {
      "cell_type": "code",
      "execution_count": 8,
      "id": "e44496f6",
      "metadata": {
        "colab": {
          "base_uri": "https://localhost:8080/",
          "height": 317
        },
        "id": "e44496f6",
        "outputId": "2dbdd8bf-0dc9-413b-b80f-6766923cea10"
      },
      "outputs": [
        {
          "output_type": "execute_result",
          "data": {
            "text/plain": [
              "   Unnamed: 0_x  School_Code  STAR_Score_18  STAR_Rating_18  STAR_Score_19  \\\n",
              "0             1          102          35.63               2             38   \n",
              "1             2          109          47.68               3             40   \n",
              "2             3          113          35.96               2             57   \n",
              "3             4          114          51.40               3             36   \n",
              "4             5          114          51.40               3             53   \n",
              "\n",
              "   STAR_Rating_19  STAR_Score_inc  STAR_Score_change  STAR_Rating_change  \\\n",
              "0               2           -2.37          -0.062368            0.000000   \n",
              "1               2            7.68           0.192000            0.500000   \n",
              "2               3          -21.04          -0.369123           -0.333333   \n",
              "3               2           15.40           0.427778            0.500000   \n",
              "4               3           -1.60          -0.030189            0.000000   \n",
              "\n",
              "   Unnamed: 0_y  ... Ward  Total_Count_of_Students diversity_At-Risk_(%)  \\\n",
              "0            24  ...    7                      133                    75   \n",
              "1            23  ...    7                      360                    66   \n",
              "2           170  ...    8                      415                    73   \n",
              "3           179  ...    5                      485                    60   \n",
              "4           179  ...    5                      485                    60   \n",
              "\n",
              "   diversity_Socieconomic_Diversity_Score,_2018-19_(%)  \\\n",
              "0                                                 25     \n",
              "1                                                 34     \n",
              "2                                                 27     \n",
              "3                                                 40     \n",
              "4                                                 40     \n",
              "\n",
              "  diversity_Socieconomic_Diversity_Score,_2016-17_(%)  \\\n",
              "0                                          28.417265    \n",
              "1                                          37.325907    \n",
              "2                                          28.752261    \n",
              "3                                          46.167558    \n",
              "4                                          46.167558    \n",
              "\n",
              "   diversity_Change_in_Socieconomic_Diversity_Score,_from_2016-17_to_2018-19_(percentage_points)  \\\n",
              "0                                          -3.417265                                               \n",
              "1                                          -3.325907                                               \n",
              "2                                          -1.752261                                               \n",
              "3                                          -6.167558                                               \n",
              "4                                          -6.167558                                               \n",
              "\n",
              "   diversity_risk_level  STAR_Score_inc(%)  STAR_Rating_inc  \\\n",
              "0                     4          -0.062368                0   \n",
              "1                     4           0.192000                1   \n",
              "2                     4          -0.369123               -1   \n",
              "3                     4           0.427778                1   \n",
              "4                     4          -0.030189                0   \n",
              "\n",
              "   STAR_Rating_inc(%)  \n",
              "0            0.000000  \n",
              "1            0.500000  \n",
              "2           -0.333333  \n",
              "3            0.500000  \n",
              "4            0.000000  \n",
              "\n",
              "[5 rows x 46 columns]"
            ],
            "text/html": [
              "\n",
              "  <div id=\"df-fc4db754-4b35-4cc7-9fdb-6c304db0b5e1\">\n",
              "    <div class=\"colab-df-container\">\n",
              "      <div>\n",
              "<style scoped>\n",
              "    .dataframe tbody tr th:only-of-type {\n",
              "        vertical-align: middle;\n",
              "    }\n",
              "\n",
              "    .dataframe tbody tr th {\n",
              "        vertical-align: top;\n",
              "    }\n",
              "\n",
              "    .dataframe thead th {\n",
              "        text-align: right;\n",
              "    }\n",
              "</style>\n",
              "<table border=\"1\" class=\"dataframe\">\n",
              "  <thead>\n",
              "    <tr style=\"text-align: right;\">\n",
              "      <th></th>\n",
              "      <th>Unnamed: 0_x</th>\n",
              "      <th>School_Code</th>\n",
              "      <th>STAR_Score_18</th>\n",
              "      <th>STAR_Rating_18</th>\n",
              "      <th>STAR_Score_19</th>\n",
              "      <th>STAR_Rating_19</th>\n",
              "      <th>STAR_Score_inc</th>\n",
              "      <th>STAR_Score_change</th>\n",
              "      <th>STAR_Rating_change</th>\n",
              "      <th>Unnamed: 0_y</th>\n",
              "      <th>...</th>\n",
              "      <th>Ward</th>\n",
              "      <th>Total_Count_of_Students</th>\n",
              "      <th>diversity_At-Risk_(%)</th>\n",
              "      <th>diversity_Socieconomic_Diversity_Score,_2018-19_(%)</th>\n",
              "      <th>diversity_Socieconomic_Diversity_Score,_2016-17_(%)</th>\n",
              "      <th>diversity_Change_in_Socieconomic_Diversity_Score,_from_2016-17_to_2018-19_(percentage_points)</th>\n",
              "      <th>diversity_risk_level</th>\n",
              "      <th>STAR_Score_inc(%)</th>\n",
              "      <th>STAR_Rating_inc</th>\n",
              "      <th>STAR_Rating_inc(%)</th>\n",
              "    </tr>\n",
              "  </thead>\n",
              "  <tbody>\n",
              "    <tr>\n",
              "      <th>0</th>\n",
              "      <td>1</td>\n",
              "      <td>102</td>\n",
              "      <td>35.63</td>\n",
              "      <td>2</td>\n",
              "      <td>38</td>\n",
              "      <td>2</td>\n",
              "      <td>-2.37</td>\n",
              "      <td>-0.062368</td>\n",
              "      <td>0.000000</td>\n",
              "      <td>24</td>\n",
              "      <td>...</td>\n",
              "      <td>7</td>\n",
              "      <td>133</td>\n",
              "      <td>75</td>\n",
              "      <td>25</td>\n",
              "      <td>28.417265</td>\n",
              "      <td>-3.417265</td>\n",
              "      <td>4</td>\n",
              "      <td>-0.062368</td>\n",
              "      <td>0</td>\n",
              "      <td>0.000000</td>\n",
              "    </tr>\n",
              "    <tr>\n",
              "      <th>1</th>\n",
              "      <td>2</td>\n",
              "      <td>109</td>\n",
              "      <td>47.68</td>\n",
              "      <td>3</td>\n",
              "      <td>40</td>\n",
              "      <td>2</td>\n",
              "      <td>7.68</td>\n",
              "      <td>0.192000</td>\n",
              "      <td>0.500000</td>\n",
              "      <td>23</td>\n",
              "      <td>...</td>\n",
              "      <td>7</td>\n",
              "      <td>360</td>\n",
              "      <td>66</td>\n",
              "      <td>34</td>\n",
              "      <td>37.325907</td>\n",
              "      <td>-3.325907</td>\n",
              "      <td>4</td>\n",
              "      <td>0.192000</td>\n",
              "      <td>1</td>\n",
              "      <td>0.500000</td>\n",
              "    </tr>\n",
              "    <tr>\n",
              "      <th>2</th>\n",
              "      <td>3</td>\n",
              "      <td>113</td>\n",
              "      <td>35.96</td>\n",
              "      <td>2</td>\n",
              "      <td>57</td>\n",
              "      <td>3</td>\n",
              "      <td>-21.04</td>\n",
              "      <td>-0.369123</td>\n",
              "      <td>-0.333333</td>\n",
              "      <td>170</td>\n",
              "      <td>...</td>\n",
              "      <td>8</td>\n",
              "      <td>415</td>\n",
              "      <td>73</td>\n",
              "      <td>27</td>\n",
              "      <td>28.752261</td>\n",
              "      <td>-1.752261</td>\n",
              "      <td>4</td>\n",
              "      <td>-0.369123</td>\n",
              "      <td>-1</td>\n",
              "      <td>-0.333333</td>\n",
              "    </tr>\n",
              "    <tr>\n",
              "      <th>3</th>\n",
              "      <td>4</td>\n",
              "      <td>114</td>\n",
              "      <td>51.40</td>\n",
              "      <td>3</td>\n",
              "      <td>36</td>\n",
              "      <td>2</td>\n",
              "      <td>15.40</td>\n",
              "      <td>0.427778</td>\n",
              "      <td>0.500000</td>\n",
              "      <td>179</td>\n",
              "      <td>...</td>\n",
              "      <td>5</td>\n",
              "      <td>485</td>\n",
              "      <td>60</td>\n",
              "      <td>40</td>\n",
              "      <td>46.167558</td>\n",
              "      <td>-6.167558</td>\n",
              "      <td>4</td>\n",
              "      <td>0.427778</td>\n",
              "      <td>1</td>\n",
              "      <td>0.500000</td>\n",
              "    </tr>\n",
              "    <tr>\n",
              "      <th>4</th>\n",
              "      <td>5</td>\n",
              "      <td>114</td>\n",
              "      <td>51.40</td>\n",
              "      <td>3</td>\n",
              "      <td>53</td>\n",
              "      <td>3</td>\n",
              "      <td>-1.60</td>\n",
              "      <td>-0.030189</td>\n",
              "      <td>0.000000</td>\n",
              "      <td>179</td>\n",
              "      <td>...</td>\n",
              "      <td>5</td>\n",
              "      <td>485</td>\n",
              "      <td>60</td>\n",
              "      <td>40</td>\n",
              "      <td>46.167558</td>\n",
              "      <td>-6.167558</td>\n",
              "      <td>4</td>\n",
              "      <td>-0.030189</td>\n",
              "      <td>0</td>\n",
              "      <td>0.000000</td>\n",
              "    </tr>\n",
              "  </tbody>\n",
              "</table>\n",
              "<p>5 rows × 46 columns</p>\n",
              "</div>\n",
              "      <button class=\"colab-df-convert\" onclick=\"convertToInteractive('df-fc4db754-4b35-4cc7-9fdb-6c304db0b5e1')\"\n",
              "              title=\"Convert this dataframe to an interactive table.\"\n",
              "              style=\"display:none;\">\n",
              "        \n",
              "  <svg xmlns=\"http://www.w3.org/2000/svg\" height=\"24px\"viewBox=\"0 0 24 24\"\n",
              "       width=\"24px\">\n",
              "    <path d=\"M0 0h24v24H0V0z\" fill=\"none\"/>\n",
              "    <path d=\"M18.56 5.44l.94 2.06.94-2.06 2.06-.94-2.06-.94-.94-2.06-.94 2.06-2.06.94zm-11 1L8.5 8.5l.94-2.06 2.06-.94-2.06-.94L8.5 2.5l-.94 2.06-2.06.94zm10 10l.94 2.06.94-2.06 2.06-.94-2.06-.94-.94-2.06-.94 2.06-2.06.94z\"/><path d=\"M17.41 7.96l-1.37-1.37c-.4-.4-.92-.59-1.43-.59-.52 0-1.04.2-1.43.59L10.3 9.45l-7.72 7.72c-.78.78-.78 2.05 0 2.83L4 21.41c.39.39.9.59 1.41.59.51 0 1.02-.2 1.41-.59l7.78-7.78 2.81-2.81c.8-.78.8-2.07 0-2.86zM5.41 20L4 18.59l7.72-7.72 1.47 1.35L5.41 20z\"/>\n",
              "  </svg>\n",
              "      </button>\n",
              "      \n",
              "  <style>\n",
              "    .colab-df-container {\n",
              "      display:flex;\n",
              "      flex-wrap:wrap;\n",
              "      gap: 12px;\n",
              "    }\n",
              "\n",
              "    .colab-df-convert {\n",
              "      background-color: #E8F0FE;\n",
              "      border: none;\n",
              "      border-radius: 50%;\n",
              "      cursor: pointer;\n",
              "      display: none;\n",
              "      fill: #1967D2;\n",
              "      height: 32px;\n",
              "      padding: 0 0 0 0;\n",
              "      width: 32px;\n",
              "    }\n",
              "\n",
              "    .colab-df-convert:hover {\n",
              "      background-color: #E2EBFA;\n",
              "      box-shadow: 0px 1px 2px rgba(60, 64, 67, 0.3), 0px 1px 3px 1px rgba(60, 64, 67, 0.15);\n",
              "      fill: #174EA6;\n",
              "    }\n",
              "\n",
              "    [theme=dark] .colab-df-convert {\n",
              "      background-color: #3B4455;\n",
              "      fill: #D2E3FC;\n",
              "    }\n",
              "\n",
              "    [theme=dark] .colab-df-convert:hover {\n",
              "      background-color: #434B5C;\n",
              "      box-shadow: 0px 1px 3px 1px rgba(0, 0, 0, 0.15);\n",
              "      filter: drop-shadow(0px 1px 2px rgba(0, 0, 0, 0.3));\n",
              "      fill: #FFFFFF;\n",
              "    }\n",
              "  </style>\n",
              "\n",
              "      <script>\n",
              "        const buttonEl =\n",
              "          document.querySelector('#df-fc4db754-4b35-4cc7-9fdb-6c304db0b5e1 button.colab-df-convert');\n",
              "        buttonEl.style.display =\n",
              "          google.colab.kernel.accessAllowed ? 'block' : 'none';\n",
              "\n",
              "        async function convertToInteractive(key) {\n",
              "          const element = document.querySelector('#df-fc4db754-4b35-4cc7-9fdb-6c304db0b5e1');\n",
              "          const dataTable =\n",
              "            await google.colab.kernel.invokeFunction('convertToInteractive',\n",
              "                                                     [key], {});\n",
              "          if (!dataTable) return;\n",
              "\n",
              "          const docLinkHtml = 'Like what you see? Visit the ' +\n",
              "            '<a target=\"_blank\" href=https://colab.research.google.com/notebooks/data_table.ipynb>data table notebook</a>'\n",
              "            + ' to learn more about interactive tables.';\n",
              "          element.innerHTML = '';\n",
              "          dataTable['output_type'] = 'display_data';\n",
              "          await google.colab.output.renderOutput(dataTable, element);\n",
              "          const docLink = document.createElement('div');\n",
              "          docLink.innerHTML = docLinkHtml;\n",
              "          element.appendChild(docLink);\n",
              "        }\n",
              "      </script>\n",
              "    </div>\n",
              "  </div>\n",
              "  "
            ]
          },
          "metadata": {},
          "execution_count": 8
        }
      ],
      "source": [
        "all_df.head()"
      ]
    },
    {
      "cell_type": "code",
      "execution_count": 9,
      "id": "721818ef",
      "metadata": {
        "id": "721818ef"
      },
      "outputs": [],
      "source": [
        "#converting back to a csv file\n",
        "all_df.to_csv(\"../Dataset/final_data/final_data.csv\")"
      ]
    },
    {
      "cell_type": "markdown",
      "source": [
        "# Diagnosis of which schools are missing"
      ],
      "metadata": {
        "id": "CW7txyGV-zd6"
      },
      "id": "CW7txyGV-zd6"
    },
    {
      "cell_type": "markdown",
      "source": [
        "## diagnosis of which schools are missing due to missing STAR or spending data"
      ],
      "metadata": {
        "id": "UEuixhsE-2E6"
      },
      "id": "UEuixhsE-2E6"
    },
    {
      "cell_type": "code",
      "execution_count": 10,
      "id": "6a99b3fb",
      "metadata": {
        "id": "6a99b3fb"
      },
      "outputs": [],
      "source": [
        "DC_finance_2018=pd.read_excel(\"../Dataset/NCES/DC_1819.xlsx\")\n",
        "DC_STAR_2018=pd.read_csv(\"../Dataset/OSSEDC/2018/2018_STAR_Score.csv\")\n",
        "DC_finance_2019=pd.read_excel(\"../Dataset/NCES/DC_1920.xlsx\")\n",
        "DC_STAR_2019=pd.read_csv(\"../Dataset/OSSEDC/2019/2019_STAR_Score.csv\")\n",
        "\n",
        "DC_STAR_2019.columns = DC_STAR_2019.columns.str.replace(\" \", \"_\")\n",
        "DC_STAR_2019.columns = DC_STAR_2019.columns.str.replace(\"Framework_\", \"\")\n",
        "\n",
        "DC_STAR_2018.columns = DC_STAR_2018.columns.str.replace(\" \", \"_\")"
      ]
    },
    {
      "cell_type": "code",
      "source": [
        "DC_full_STAR_2018=pd.merge(DC_finance_2018,DC_STAR_2018,\n",
        "                           left_on=\"schoolid_stateassigned\",right_on=\"School_Code\",how=\"inner\")\n",
        "DC_full_STAR_2019=pd.merge(DC_finance_2019,DC_STAR_2019,\n",
        "                           left_on=\"schoolid_stateassigned\",right_on=\"School_Code\",how=\"inner\")"
      ],
      "metadata": {
        "id": "6J0slvU8--0T"
      },
      "id": "6J0slvU8--0T",
      "execution_count": 11,
      "outputs": []
    },
    {
      "cell_type": "code",
      "source": [
        "miss_financial_2018 = DC_STAR_2018[-DC_STAR_2018[\"School_Code\"].isin(DC_finance_2018.schoolid_stateassigned)]\n",
        "miss_financial_2019 = DC_STAR_2019[-DC_STAR_2019[\"School_Code\"].isin(DC_finance_2019.schoolid_stateassigned)]\n",
        "\n",
        "miss_star_2018 = DC_finance_2018[-DC_finance_2018.schoolid_stateassigned.isin(DC_STAR_2018[\"School_Code\"])]\n",
        "miss_star_2019 = DC_finance_2019[-DC_finance_2018.schoolid_stateassigned.isin(DC_STAR_2019[\"School_Code\"])]"
      ],
      "metadata": {
        "id": "nHK_I-Kk_Jty"
      },
      "id": "nHK_I-Kk_Jty",
      "execution_count": 12,
      "outputs": []
    },
    {
      "cell_type": "code",
      "source": [
        "print(\"Number of STAR without finanicial data is: \",\n",
        "      miss_financial_2018.shape[0])\n",
        "print(\"Number of schools doesn't have a STAR score is :\",\n",
        "      miss_star_2018.shape[0])\n",
        "\n",
        "print(\"Number of STAR without finanicial data is: \",\n",
        "      miss_financial_2019.shape[0])\n",
        "print(\"Number of schools doesn't have a STAR score is :\",\n",
        "      miss_star_2019.shape[0])"
      ],
      "metadata": {
        "colab": {
          "base_uri": "https://localhost:8080/"
        },
        "id": "DTLMbPsR_MR9",
        "outputId": "3649dc61-ff09-4345-8148-240a9c4ddebc"
      },
      "id": "DTLMbPsR_MR9",
      "execution_count": 13,
      "outputs": [
        {
          "output_type": "stream",
          "name": "stdout",
          "text": [
            "Number of STAR without finanicial data is:  6\n",
            "Number of schools doesn't have a STAR score is : 45\n",
            "Number of STAR without finanicial data is:  10\n",
            "Number of schools doesn't have a STAR score is : 40\n"
          ]
        }
      ]
    },
    {
      "cell_type": "markdown",
      "source": [
        "### analysis school type"
      ],
      "metadata": {
        "id": "4OpLGsIm_kFW"
      },
      "id": "4OpLGsIm_kFW"
    },
    {
      "cell_type": "code",
      "source": [
        "\n",
        "print(\"The school type with the most missing star data in 2018 was\", miss_star_2018['schtype_raw_DC'].value_counts().index[0], \n",
        "      ',', miss_star_2018['schtype_raw_DC'].value_counts()[0], \"schools of this type miss star data\")\n",
        "print(\"The school type with the most missing financial data in 2018 was\", miss_financial_2018['School_Type'].value_counts().index[0], \n",
        "      ',', miss_financial_2018['School_Type'].value_counts()[0], \"schools of this type miss financial data\")\n",
        "\n",
        "\n",
        "print(\"The school type with the most missing star data in 2019 was\", miss_star_2019['schtype_raw_DC'].value_counts().index[0], \n",
        "      ',', miss_star_2019['schtype_raw_DC'].value_counts()[0], \"schools of this type miss star data\")\n",
        "print(\"The school type with the most missing financial data in 2019 was\", miss_financial_2019['School_Type'].value_counts().index[0], \n",
        "      ',', miss_financial_2019['School_Type'].value_counts()[0], \"schools of this type miss financial data\")"
      ],
      "metadata": {
        "colab": {
          "base_uri": "https://localhost:8080/"
        },
        "id": "6tIhEeE9_OQN",
        "outputId": "e681d5ac-eca1-45e6-ebcc-7fc19f6a2571"
      },
      "id": "6tIhEeE9_OQN",
      "execution_count": 14,
      "outputs": [
        {
          "output_type": "stream",
          "name": "stdout",
          "text": [
            "The school type with the most missing star data in 2018 was Charter , 28 schools of this type miss star data\n",
            "The school type with the most missing financial data in 2018 was Charter , 6 schools of this type miss financial data\n",
            "The school type with the most missing star data in 2019 was Charter , 31 schools of this type miss star data\n",
            "The school type with the most missing financial data in 2019 was Charter , 10 schools of this type miss financial data\n"
          ]
        }
      ]
    },
    {
      "cell_type": "markdown",
      "source": [
        "### analysis school size"
      ],
      "metadata": {
        "id": "iVXZaDvJ_pRu"
      },
      "id": "iVXZaDvJ_pRu"
    },
    {
      "cell_type": "code",
      "source": [
        "print(\"In 2018, out of\", len(miss_star_2018), \"schools that miss star score,\", len(miss_star_2018[miss_star_2018['enroll_raw_DC']=='NRD']), \"schools don't have enrollment data.\")\n",
        "print(\"The average students number of schools that miss star score is\", round(miss_star_2018[miss_star_2018['enroll_raw_DC']!='NRD'].enroll_raw_DC.mean()),\n",
        "      \"Compare to the average students number of every school in DC is\", round(DC_finance_2018[DC_finance_2018['enroll_raw_DC']!='NRD'].enroll_raw_DC.mean()))\n",
        "\n",
        "print(\"In 2019, out of\", len(miss_star_2019), \"schools that miss star score,\", len(miss_star_2019[miss_star_2019['enroll_raw_DC']=='NRD']), \"schools don't have enrollment data.\")\n",
        "print(\"The average students number of schools that miss star score is\", round(miss_star_2019[miss_star_2019['enroll_raw_DC']!='NRD'].enroll_raw_DC.mean()),\n",
        "      \"Compare to the average students number of every school in DC is\", round(DC_finance_2019[DC_finance_2019['enroll_raw_DC']!='NRD'].enroll_raw_DC.mean()))"
      ],
      "metadata": {
        "colab": {
          "base_uri": "https://localhost:8080/"
        },
        "id": "reQh_jli_l-v",
        "outputId": "c241111b-418a-4675-cc1b-9e14b9b568e1"
      },
      "id": "reQh_jli_l-v",
      "execution_count": 15,
      "outputs": [
        {
          "output_type": "stream",
          "name": "stdout",
          "text": [
            "In 2018, out of 45 schools that miss star score, 11 schools don't have enrollment data.\n",
            "The average students number of schools that miss star score is 326 Compare to the average students number of every school in DC is 394\n",
            "In 2019, out of 40 schools that miss star score, 1 schools don't have enrollment data.\n",
            "The average students number of schools that miss star score is 324 Compare to the average students number of every school in DC is 395\n"
          ]
        }
      ]
    },
    {
      "cell_type": "markdown",
      "source": [
        "## analysis school missing between 2 years"
      ],
      "metadata": {
        "id": "yLphMvNs_tVj"
      },
      "id": "yLphMvNs_tVj"
    },
    {
      "cell_type": "code",
      "source": [
        "School_Code_2018 = DC_finance_2018[]"
      ],
      "metadata": {
        "id": "EskZ30ed_rWR"
      },
      "id": "EskZ30ed_rWR",
      "execution_count": null,
      "outputs": []
    }
  ],
  "metadata": {
    "kernelspec": {
      "display_name": "Python 3.9.12 ('base')",
      "language": "python",
      "name": "python3"
    },
    "language_info": {
      "codemirror_mode": {
        "name": "ipython",
        "version": 3
      },
      "file_extension": ".py",
      "mimetype": "text/x-python",
      "name": "python",
      "nbconvert_exporter": "python",
      "pygments_lexer": "ipython3",
      "version": "3.9.12"
    },
    "vscode": {
      "interpreter": {
        "hash": "38cca0c38332a56087b24af0bc80247f4fced29cb4f7f437d91dc159adec9c4e"
      }
    },
    "colab": {
      "provenance": []
    }
  },
  "nbformat": 4,
  "nbformat_minor": 5
}