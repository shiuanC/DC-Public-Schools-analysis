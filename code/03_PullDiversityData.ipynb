{
 "cells": [
  {
   "cell_type": "markdown",
   "id": "f9b65b82",
   "metadata": {},
   "source": [
    "# Diversity Data from "
   ]
  },
  {
   "cell_type": "code",
   "execution_count": 2,
   "id": "57bf9b67",
   "metadata": {},
   "outputs": [],
   "source": [
    "import pandas as pd\n",
    "import numpy as np\n",
    "\n",
    "from itertools import combinations\n",
    "\n"
   ]
  },
  {
   "cell_type": "code",
   "execution_count": 4,
   "id": "0c4d3801",
   "metadata": {},
   "outputs": [
    {
     "data": {
      "text/html": [
       "<div>\n",
       "<style scoped>\n",
       "    .dataframe tbody tr th:only-of-type {\n",
       "        vertical-align: middle;\n",
       "    }\n",
       "\n",
       "    .dataframe tbody tr th {\n",
       "        vertical-align: top;\n",
       "    }\n",
       "\n",
       "    .dataframe thead th {\n",
       "        text-align: right;\n",
       "    }\n",
       "</style>\n",
       "<table border=\"1\" class=\"dataframe\">\n",
       "  <thead>\n",
       "    <tr style=\"text-align: right;\">\n",
       "      <th></th>\n",
       "      <th>LEA Code</th>\n",
       "      <th>LEA Name</th>\n",
       "      <th>School Code</th>\n",
       "      <th>School Name</th>\n",
       "      <th>Entity Type</th>\n",
       "      <th>Ward</th>\n",
       "      <th>Total Count of Students</th>\n",
       "      <th>At-Risk (%)</th>\n",
       "      <th>Not at-risk (%)</th>\n",
       "      <th>Socieconomic Diversity Score, 2018-19 (%)</th>\n",
       "      <th>Most socioeconomically diverse flag</th>\n",
       "      <th>Majority group</th>\n",
       "      <th>Socieconomic Diversity Score, 2016-17 (%)</th>\n",
       "      <th>Change in Socieconomic Diversity Score, from 2016-17 to 2018-19 (percentage points)</th>\n",
       "    </tr>\n",
       "  </thead>\n",
       "  <tbody>\n",
       "    <tr>\n",
       "      <th>0</th>\n",
       "      <td>155</td>\n",
       "      <td>Achievement Preparatory Academy PCS</td>\n",
       "      <td>217</td>\n",
       "      <td>Achievement Preparatory Academy PCS - Wahler P...</td>\n",
       "      <td>Charter</td>\n",
       "      <td>8</td>\n",
       "      <td>379</td>\n",
       "      <td>67</td>\n",
       "      <td>33</td>\n",
       "      <td>33</td>\n",
       "      <td>Other</td>\n",
       "      <td>At-Risk</td>\n",
       "      <td>45.043105</td>\n",
       "      <td>-12.043105</td>\n",
       "    </tr>\n",
       "    <tr>\n",
       "      <th>1</th>\n",
       "      <td>155</td>\n",
       "      <td>Achievement Preparatory Academy PCS</td>\n",
       "      <td>1100</td>\n",
       "      <td>Achievement Preparatory Academy PCS - Wahler P...</td>\n",
       "      <td>Charter</td>\n",
       "      <td>8</td>\n",
       "      <td>459</td>\n",
       "      <td>65</td>\n",
       "      <td>35</td>\n",
       "      <td>35</td>\n",
       "      <td>Other</td>\n",
       "      <td>At-Risk</td>\n",
       "      <td>49.145299</td>\n",
       "      <td>-14.145299</td>\n",
       "    </tr>\n",
       "    <tr>\n",
       "      <th>2</th>\n",
       "      <td>1</td>\n",
       "      <td>District of Columbia Public Schools</td>\n",
       "      <td>202</td>\n",
       "      <td>Aiton Elementary School</td>\n",
       "      <td>DCPS</td>\n",
       "      <td>7</td>\n",
       "      <td>268</td>\n",
       "      <td>76</td>\n",
       "      <td>24</td>\n",
       "      <td>24</td>\n",
       "      <td>Other</td>\n",
       "      <td>At-Risk</td>\n",
       "      <td>20.717132</td>\n",
       "      <td>3.282868</td>\n",
       "    </tr>\n",
       "    <tr>\n",
       "      <th>3</th>\n",
       "      <td>1</td>\n",
       "      <td>District of Columbia Public Schools</td>\n",
       "      <td>203</td>\n",
       "      <td>Amidon-Bowen Elementary School</td>\n",
       "      <td>DCPS</td>\n",
       "      <td>6</td>\n",
       "      <td>362</td>\n",
       "      <td>63</td>\n",
       "      <td>37</td>\n",
       "      <td>37</td>\n",
       "      <td>Other</td>\n",
       "      <td>At-Risk</td>\n",
       "      <td>31.142855</td>\n",
       "      <td>5.857145</td>\n",
       "    </tr>\n",
       "    <tr>\n",
       "      <th>4</th>\n",
       "      <td>1</td>\n",
       "      <td>District of Columbia Public Schools</td>\n",
       "      <td>450</td>\n",
       "      <td>Anacostia High School</td>\n",
       "      <td>DCPS</td>\n",
       "      <td>8</td>\n",
       "      <td>392</td>\n",
       "      <td>81</td>\n",
       "      <td>19</td>\n",
       "      <td>19</td>\n",
       "      <td>Other</td>\n",
       "      <td>At-Risk</td>\n",
       "      <td>16.703784</td>\n",
       "      <td>2.296216</td>\n",
       "    </tr>\n",
       "  </tbody>\n",
       "</table>\n",
       "</div>"
      ],
      "text/plain": [
       "   LEA Code                             LEA Name  School Code  \\\n",
       "0       155  Achievement Preparatory Academy PCS          217   \n",
       "1       155  Achievement Preparatory Academy PCS         1100   \n",
       "2         1  District of Columbia Public Schools          202   \n",
       "3         1  District of Columbia Public Schools          203   \n",
       "4         1  District of Columbia Public Schools          450   \n",
       "\n",
       "                                         School Name Entity Type  Ward  \\\n",
       "0  Achievement Preparatory Academy PCS - Wahler P...     Charter     8   \n",
       "1  Achievement Preparatory Academy PCS - Wahler P...     Charter     8   \n",
       "2                            Aiton Elementary School        DCPS     7   \n",
       "3                     Amidon-Bowen Elementary School        DCPS     6   \n",
       "4                              Anacostia High School        DCPS     8   \n",
       "\n",
       "   Total Count of Students  At-Risk (%)  Not at-risk (%)  \\\n",
       "0                      379           67               33   \n",
       "1                      459           65               35   \n",
       "2                      268           76               24   \n",
       "3                      362           63               37   \n",
       "4                      392           81               19   \n",
       "\n",
       "   Socieconomic Diversity Score, 2018-19 (%)  \\\n",
       "0                                         33   \n",
       "1                                         35   \n",
       "2                                         24   \n",
       "3                                         37   \n",
       "4                                         19   \n",
       "\n",
       "  Most socioeconomically diverse flag Majority group  \\\n",
       "0                               Other        At-Risk   \n",
       "1                               Other        At-Risk   \n",
       "2                               Other        At-Risk   \n",
       "3                               Other        At-Risk   \n",
       "4                               Other        At-Risk   \n",
       "\n",
       "   Socieconomic Diversity Score, 2016-17 (%)  \\\n",
       "0                                  45.043105   \n",
       "1                                  49.145299   \n",
       "2                                  20.717132   \n",
       "3                                  31.142855   \n",
       "4                                  16.703784   \n",
       "\n",
       "   Change in Socieconomic Diversity Score, from 2016-17 to 2018-19 (percentage points)  \n",
       "0                                         -12.043105                                    \n",
       "1                                         -14.145299                                    \n",
       "2                                           3.282868                                    \n",
       "3                                           5.857145                                    \n",
       "4                                           2.296216                                    "
      ]
     },
     "execution_count": 4,
     "metadata": {},
     "output_type": "execute_result"
    }
   ],
   "source": [
    "diversity = pd.read_excel(\"../Dataset/school_spending/Diversity-Scores-for-DC-Schools_2018-19.xlsx\", sheet_name='Socioeconomic')\n",
    "# print(racial_1819.info())\n",
    "diversity.head()\n"
   ]
  },
  {
   "cell_type": "code",
   "execution_count": 5,
   "id": "23331eed",
   "metadata": {},
   "outputs": [],
   "source": [
    "#getting rid of spaces in column names\n",
    "diversity.columns = diversity.columns.str.replace(\" \", \"_\")\n"
   ]
  },
  {
   "cell_type": "code",
   "execution_count": 6,
   "id": "71e67447",
   "metadata": {},
   "outputs": [
    {
     "name": "stdout",
     "output_type": "stream",
     "text": [
      "LEA_Code                                                                                0\n",
      "LEA_Name                                                                                0\n",
      "School_Code                                                                             0\n",
      "School_Name                                                                             0\n",
      "Entity_Type                                                                             0\n",
      "Ward                                                                                    0\n",
      "Total_Count_of_Students                                                                 0\n",
      "At-Risk_(%)                                                                             0\n",
      "Not_at-risk_(%)                                                                         0\n",
      "Socieconomic_Diversity_Score,_2018-19_(%)                                               0\n",
      "Most_socioeconomically_diverse_flag                                                     0\n",
      "Majority_group                                                                          0\n",
      "Socieconomic_Diversity_Score,_2016-17_(%)                                              10\n",
      "Change_in_Socieconomic_Diversity_Score,_from_2016-17_to_2018-19_(percentage_points)    10\n",
      "dtype: int64\n"
     ]
    }
   ],
   "source": [
    "#calculate the number of na's per column\n",
    "print(diversity.isnull().sum())"
   ]
  },
  {
   "cell_type": "markdown",
   "id": "6cb8ce6b",
   "metadata": {},
   "source": [
    "## Giving each school a 1-5 label according to risk percentage"
   ]
  },
  {
   "cell_type": "markdown",
   "id": "b54cbd96",
   "metadata": {},
   "source": [
    "1 being low risk and 5 being high risk"
   ]
  },
  {
   "cell_type": "code",
   "execution_count": 7,
   "id": "2fb458a0",
   "metadata": {},
   "outputs": [
    {
     "data": {
      "text/plain": [
       "3    64\n",
       "4    59\n",
       "1    37\n",
       "2    33\n",
       "5    23\n",
       "Name: risk_level, dtype: int64"
      ]
     },
     "execution_count": 7,
     "metadata": {},
     "output_type": "execute_result"
    }
   ],
   "source": [
    "bins= [0,20,40,60, 80,100]\n",
    "labels = [1, 2, 3, 4, 5]\n",
    "diversity['risk_level'] = pd.cut(diversity['At-Risk_(%)'], bins=bins, labels=labels, right=False)\n",
    "diversity['risk_level'].value_counts()"
   ]
  },
  {
   "cell_type": "code",
   "execution_count": 8,
   "id": "2a234d62",
   "metadata": {},
   "outputs": [],
   "source": [
    "#converting back to a csv file\n",
    "diversity.to_csv(\"../Dataset/final_data/diversity.csv\")"
   ]
  }
 ],
 "metadata": {
  "kernelspec": {
   "display_name": "Python 3 (ipykernel)",
   "language": "python",
   "name": "python3"
  },
  "language_info": {
   "codemirror_mode": {
    "name": "ipython",
    "version": 3
   },
   "file_extension": ".py",
   "mimetype": "text/x-python",
   "name": "python",
   "nbconvert_exporter": "python",
   "pygments_lexer": "ipython3",
   "version": "3.9.12"
  }
 },
 "nbformat": 4,
 "nbformat_minor": 5
}
