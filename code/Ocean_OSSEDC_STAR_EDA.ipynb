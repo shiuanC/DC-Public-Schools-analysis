{
 "cells": [
  {
   "cell_type": "code",
   "execution_count": 1,
   "id": "d2f37ad9-f279-4e18-897a-fc4c4773e469",
   "metadata": {},
   "outputs": [],
   "source": [
    "import pandas as pd\n",
    "import numpy as np\n",
    "import plotnine\n",
    "from plotnine import *\n",
    "\n",
    "import requests\n",
    "import json\n",
    "\n",
    "import os"
   ]
  },
  {
   "cell_type": "markdown",
   "id": "0f8d346a-b2a0-41b8-b6c4-b4f9916b9a0f",
   "metadata": {},
   "source": [
    "## 0.Read data file"
   ]
  },
  {
   "cell_type": "code",
   "execution_count": 139,
   "id": "60bca809-2338-4d8d-9f16-edafcbd921f9",
   "metadata": {},
   "outputs": [],
   "source": [
    "Root_Path=os.path.abspath(os.path.dirname(os.getcwd()))"
   ]
  },
  {
   "cell_type": "code",
   "execution_count": 170,
   "id": "6512a156-a338-4cc4-b275-92ed2b92008b",
   "metadata": {},
   "outputs": [
    {
     "name": "stdout",
     "output_type": "stream",
     "text": [
      "(242, 39)\n",
      "(248, 12)\n"
     ]
    }
   ],
   "source": [
    "# DC_finance=pd.read_excel(\"../Dataset/school_spending/DC_1819_final_September_23rd_22.xlsx\")\n",
    "DC_finance_2018=pd.read_excel(\"../Dataset/NCES/DC_1819.xlsx\")\n",
    "DC_STAR_2018=pd.read_csv(\"../Dataset/OSSEDC/2018/2018_STAR_Score.csv\")\n",
    "# DC_HIGH_SAT=pd.read()\n",
    "print(DC_finance_2018.shape)\n",
    "print(DC_STAR_2018.shape)"
   ]
  },
  {
   "cell_type": "code",
   "execution_count": 171,
   "id": "415bf241-4e33-4032-a35b-251a178839c0",
   "metadata": {},
   "outputs": [
    {
     "name": "stdout",
     "output_type": "stream",
     "text": [
      "(242, 38)\n",
      "(251, 13)\n"
     ]
    }
   ],
   "source": [
    "DC_finance_2019=pd.read_excel(\"../Dataset/NCES/DC_1920.xlsx\")\n",
    "DC_STAR_2019=pd.read_csv(\"../Dataset/OSSEDC/2019/2019_STAR_Score.csv\")\n",
    "# DC_HIGH_SAT=pd.read()\n",
    "print(DC_finance_2019.shape)\n",
    "print(DC_STAR_2019.shape)"
   ]
  },
  {
   "cell_type": "markdown",
   "id": "9e5a305d-549c-474c-b4d1-5a328f748b5b",
   "metadata": {},
   "source": [
    "**Find join key**"
   ]
  },
  {
   "cell_type": "code",
   "execution_count": 172,
   "id": "ad0cff0b-7c82-4e83-b78c-75d0198da883",
   "metadata": {},
   "outputs": [
    {
     "name": "stdout",
     "output_type": "stream",
     "text": [
      "Index(['LEA Code', 'LEA Name', 'School Code', 'School Name', 'School Type',\n",
      "       'Ward', 'School Framework', 'Framework Weight',\n",
      "       'Framework Points Earned', 'Framework Points Possible',\n",
      "       'Framework STAR Score', 'Framework STAR Rating'],\n",
      "      dtype='object')\n",
      "Index(['state', 'year', 'distid_stateassigned', 'schoolid_stateassigned',\n",
      "       'distname', 'schoolname', 'ncesdistid_admin', 'ncesdistid_geo',\n",
      "       'census_id', 'ncesid', 'ncesenroll', 'gradespan', 'level',\n",
      "       'enroll_raw_DC', 'enrollmetric', 'pp_stloc_raw_DC', 'pp_fed_raw_DC',\n",
      "       'pp_total_raw_DC', 'pp_site_stloc_raw_DC', 'pp_site_fed_raw_DC',\n",
      "       'pp_site_raw_DC', 'pp_centshare_stloc_raw_DC',\n",
      "       'pp_centshare_fed_raw_DC', 'pp_centshare_raw_DC', 'schoolstloc_raw_DC',\n",
      "       'schoolfed_raw_DC', 'schooltot_raw_DC', 'pp_total_norm_NERDS',\n",
      "       'disttotwexclu_raw_DC', 'distexclu_raw_DC', 'schtype_raw_DC',\n",
      "       'ward_raw_DC', 'countenroll', 'noaudit', 'nositecen', 'adfinvars',\n",
      "       'distflex', 'flag_nerds', 'flag_f33'],\n",
      "      dtype='object')\n"
     ]
    }
   ],
   "source": [
    "print(DC_STAR_2018.columns)\n",
    "print(DC_finance_2018.columns)"
   ]
  },
  {
   "cell_type": "markdown",
   "id": "014e408b-b00b-42b6-8468-0eada53fd912",
   "metadata": {},
   "source": [
    "Left on should be \"schoolid_stateassigned\", Right on should be \"School Code\""
   ]
  },
  {
   "cell_type": "markdown",
   "id": "241e411a-e0f8-43ec-88e8-3038a2b24a7c",
   "metadata": {},
   "source": [
    "## 2. Join STAR data to main data "
   ]
  },
  {
   "cell_type": "markdown",
   "id": "fb941419-9dc3-497f-890d-839326108cdb",
   "metadata": {},
   "source": [
    "Merge STAR data with financial data"
   ]
  },
  {
   "cell_type": "code",
   "execution_count": 173,
   "id": "9658284d-5e5a-4475-a52e-0fa552feeba7",
   "metadata": {},
   "outputs": [],
   "source": [
    "DC_full_STAR_2018=pd.merge(DC_finance_2018,DC_STAR_2018,\n",
    "                           left_on=\"schoolid_stateassigned\",right_on=\"School Code\",how=\"inner\")\n",
    "DC_full_STAR_2019=pd.merge(DC_finance_2019,DC_STAR_2019,\n",
    "                           left_on=\"schoolid_stateassigned\",right_on=\"School Code\",how=\"inner\")"
   ]
  },
  {
   "cell_type": "code",
   "execution_count": 174,
   "id": "a9283cee-4a06-48f7-8d84-60f7a7b3581c",
   "metadata": {},
   "outputs": [
    {
     "name": "stdout",
     "output_type": "stream",
     "text": [
      "(237, 51) (241, 51)\n"
     ]
    }
   ],
   "source": [
    "print(DC_full_STAR_2018.shape,DC_full_STAR_2019.shape)\n"
   ]
  },
  {
   "cell_type": "code",
   "execution_count": 177,
   "id": "3d701596-df9c-46f3-894b-e10fdc55ee06",
   "metadata": {},
   "outputs": [
    {
     "name": "stdout",
     "output_type": "stream",
     "text": [
      "Index(['state', 'year', 'distid_stateassigned', 'schoolid_stateassigned',\n",
      "       'distname', 'schoolname', 'ncesdistid_admin', 'ncesdistid_geo',\n",
      "       'census_id', 'ncesid', 'ncesenroll', 'gradespan', 'level',\n",
      "       'enroll_raw_DC', 'enrollmetric', 'pp_stloc_raw_DC', 'pp_fed_raw_DC',\n",
      "       'pp_total_raw_DC', 'pp_site_stloc_raw_DC', 'pp_site_fed_raw_DC',\n",
      "       'pp_site_raw_DC', 'pp_centshare_stloc_raw_DC',\n",
      "       'pp_centshare_fed_raw_DC', 'pp_centshare_raw_DC', 'schoolstloc_raw_DC',\n",
      "       'schoolfed_raw_DC', 'schooltot_raw_DC', 'pp_total_norm_NERDS',\n",
      "       'disttotwexclu_raw_DC', 'distexclu_raw_DC', 'schtype_raw_DC',\n",
      "       'ward_raw_DC', 'countenroll', 'noaudit', 'nositecen', 'adfinvars',\n",
      "       'distflex', 'flag_nerds', 'flag_f33', 'LEA Code', 'LEA Name',\n",
      "       'School Code', 'School Name', 'School Type', 'Ward', 'School Framework',\n",
      "       'Framework Weight', 'Framework Points Earned',\n",
      "       'Framework Points Possible', 'Framework STAR Score',\n",
      "       'Framework STAR Rating'],\n",
      "      dtype='object') Index(['state', 'year', 'distid_stateassigned', 'schoolid_stateassigned',\n",
      "       'distname', 'schoolname', 'ncesdistid_admin', 'ncesdistid_geo',\n",
      "       'census_id', 'ncesid', 'ncesenroll', 'gradespan', 'level',\n",
      "       'enroll_raw_DC', 'pp_stloc_raw_DC', 'pp_fed_raw_DC', 'pp_total_raw_DC',\n",
      "       'pp_site_stloc_raw_DC', 'pp_site_fed_raw_DC', 'pp_site_raw_DC',\n",
      "       'pp_centshare_stloc_raw_DC', 'pp_centshare_fed_raw_DC',\n",
      "       'pp_centshare_raw_DC', 'schoolstloc_raw_DC', 'schoolfed_raw_DC',\n",
      "       'schooltot_raw_DC', 'distexclu_raw_DC', 'disttotwexclu_raw_DC',\n",
      "       'schtype_raw_DC', 'ward_raw_DC', 'flag_NERDS', 'nces_locale',\n",
      "       'nces_charter', 'nces_magnet', 'nces_title1', 'nces_title1_schoolwide',\n",
      "       'nces_freelunch', 'nces_reducedlunch', 'LEA Code', 'LEA Name',\n",
      "       'School Code', 'School Name', 'School Type', 'Ward',\n",
      "       'Accountability Framework', 'Framework Weight',\n",
      "       'Framework Points Earned', 'Framework Points Possible',\n",
      "       'Framework STAR Score', 'Framework STAR Rating', 'School Year'],\n",
      "      dtype='object')\n"
     ]
    }
   ],
   "source": [
    "print(DC_full_STAR_2018.columns,DC_full_STAR_2019.columns)"
   ]
  },
  {
   "cell_type": "code",
   "execution_count": 178,
   "id": "a766c873-0fc1-4b36-99c8-800c61118da8",
   "metadata": {},
   "outputs": [
    {
     "name": "stdout",
     "output_type": "stream",
     "text": [
      "Number of STAR without finanicial data is:  11\n",
      "Number of schools doesn't have a STAR score is : 45\n",
      "Number of STAR without finanicial data is:  10\n",
      "Number of schools doesn't have a STAR score is : 42\n"
     ]
    }
   ],
   "source": [
    "print(\"Number of STAR without finanicial data is: \",\n",
    "      DC_STAR_2018[-DC_STAR_2018[\"School Code\"].isin(DC_finance_2018.schoolid_stateassigned)].shape[0])\n",
    "print(\"Number of schools doesn't have a STAR score is :\",\n",
    "      DC_finance_2018[-DC_finance_2018.schoolid_stateassigned.isin(DC_STAR_2018[\"School Code\"])].shape[0])\n",
    "\n",
    "print(\"Number of STAR without finanicial data is: \",\n",
    "      DC_STAR_2019[-DC_STAR_2019[\"School Code\"].isin(DC_finance_2019.schoolid_stateassigned)].shape[0])\n",
    "print(\"Number of schools doesn't have a STAR score is :\",\n",
    "      DC_finance_2019[-DC_finance_2019.schoolid_stateassigned.isin(DC_STAR_2019[\"School Code\"])].shape[0])"
   ]
  },
  {
   "cell_type": "code",
   "execution_count": 179,
   "id": "c6e84c71-5f93-4073-8274-2790374df3de",
   "metadata": {},
   "outputs": [
    {
     "data": {
      "text/plain": [
       "(478, 61)"
      ]
     },
     "execution_count": 179,
     "metadata": {},
     "output_type": "execute_result"
    }
   ],
   "source": [
    "DC_full_STAR = pd.concat([DC_full_STAR_2018,DC_full_STAR_2019],)\n",
    "DC_full_STAR.shape"
   ]
  },
  {
   "cell_type": "code",
   "execution_count": 180,
   "id": "bbae7a0a-1ff7-47b7-a6fc-9863eecf1027",
   "metadata": {},
   "outputs": [
    {
     "data": {
      "text/plain": [
       "Index(['state', 'year', 'distid_stateassigned', 'schoolid_stateassigned',\n",
       "       'distname', 'schoolname', 'ncesdistid_admin', 'ncesdistid_geo',\n",
       "       'census_id', 'ncesid', 'ncesenroll', 'gradespan', 'level',\n",
       "       'enroll_raw_DC', 'enrollmetric', 'pp_stloc_raw_DC', 'pp_fed_raw_DC',\n",
       "       'pp_total_raw_DC', 'pp_site_stloc_raw_DC', 'pp_site_fed_raw_DC',\n",
       "       'pp_site_raw_DC', 'pp_centshare_stloc_raw_DC',\n",
       "       'pp_centshare_fed_raw_DC', 'pp_centshare_raw_DC', 'schoolstloc_raw_DC',\n",
       "       'schoolfed_raw_DC', 'schooltot_raw_DC', 'pp_total_norm_NERDS',\n",
       "       'disttotwexclu_raw_DC', 'distexclu_raw_DC', 'schtype_raw_DC',\n",
       "       'ward_raw_DC', 'countenroll', 'noaudit', 'nositecen', 'adfinvars',\n",
       "       'distflex', 'flag_nerds', 'flag_f33', 'LEA Code', 'LEA Name',\n",
       "       'School Code', 'School Name', 'School Type', 'Ward', 'School Framework',\n",
       "       'Framework Weight', 'Framework Points Earned',\n",
       "       'Framework Points Possible', 'Framework STAR Score',\n",
       "       'Framework STAR Rating', 'flag_NERDS', 'nces_locale', 'nces_charter',\n",
       "       'nces_magnet', 'nces_title1', 'nces_title1_schoolwide',\n",
       "       'nces_freelunch', 'nces_reducedlunch', 'Accountability Framework',\n",
       "       'School Year'],\n",
       "      dtype='object')"
      ]
     },
     "execution_count": 180,
     "metadata": {},
     "output_type": "execute_result"
    }
   ],
   "source": [
    "DC_full_STAR.columns"
   ]
  },
  {
   "cell_type": "code",
   "execution_count": 181,
   "id": "008c8e44-faea-4991-b26d-61c0bfc2d0d9",
   "metadata": {},
   "outputs": [],
   "source": [
    "# DC_full_STAR.isna().sum()\n",
    "subset = [\"year\",\"schoolname\",\"pp_total_raw_DC\",\n",
    "          \"pp_site_raw_DC\",\"pp_centshare_raw_DC\",\"schoolstloc_raw_DC\",\n",
    "           'schtype_raw_DC', 'ward_raw_DC',\n",
    "         \"School Type\",\"Framework STAR Score\",\"Framework STAR Rating\"]\n",
    "DC_full_STAR_sub_2018 = DC_full_STAR_2018[subset]\n",
    "DC_full_STAR_sub_2019 = DC_full_STAR_2019[subset]"
   ]
  },
  {
   "cell_type": "markdown",
   "id": "d93046e2-f339-4e89-9f6b-c3ed17e58258",
   "metadata": {
    "jupyter": {
     "source_hidden": true
    },
    "tags": []
   },
   "source": [
    "## 3. Join SAT data"
   ]
  },
  {
   "cell_type": "markdown",
   "id": "189894cf-cab7-4b97-a4ff-73b022d8758d",
   "metadata": {
    "jupyter": {
     "source_hidden": true
    },
    "tags": []
   },
   "source": [
    "Use SAT as the performance of high-schools "
   ]
  },
  {
   "cell_type": "code",
   "execution_count": 9,
   "id": "237c34f8-b39b-4103-ba11-14dd7fcd4a21",
   "metadata": {
    "collapsed": true,
    "jupyter": {
     "outputs_hidden": true,
     "source_hidden": true
    },
    "tags": []
   },
   "outputs": [
    {
     "data": {
      "text/plain": [
       "(21, 6)"
      ]
     },
     "execution_count": 9,
     "metadata": {},
     "output_type": "execute_result"
    }
   ],
   "source": [
    "DC_PER_SAT=pd.read_excel(\"Dataset/DCPS/School Year 2018-2019 SAT Scores.xlsx\")\n",
    "DC_PER_SAT.shape"
   ]
  },
  {
   "cell_type": "code",
   "execution_count": 10,
   "id": "be1a86a1-b266-4d22-96a3-28578d55a885",
   "metadata": {
    "jupyter": {
     "source_hidden": true
    },
    "tags": []
   },
   "outputs": [],
   "source": [
    "DC_full_SAT=pd.merge(DC_finance,DC_PER_SAT,left_on=\"schoolid_stateassigned\",right_on=\"School Code\",how=\"inner\")"
   ]
  },
  {
   "cell_type": "code",
   "execution_count": 11,
   "id": "fc962b22-1566-4215-8a5f-12a6c52aff34",
   "metadata": {
    "collapsed": true,
    "jupyter": {
     "outputs_hidden": true,
     "source_hidden": true
    },
    "tags": []
   },
   "outputs": [
    {
     "data": {
      "text/plain": [
       "(20, 45)"
      ]
     },
     "execution_count": 11,
     "metadata": {},
     "output_type": "execute_result"
    }
   ],
   "source": [
    "DC_full_SAT.shape"
   ]
  },
  {
   "cell_type": "markdown",
   "id": "38b16b67-d084-46c7-9704-b282c48fd0f8",
   "metadata": {},
   "source": [
    "## 4. EDA about STAR score"
   ]
  },
  {
   "cell_type": "code",
   "execution_count": 182,
   "id": "22352469-5a76-4a65-a3a4-467d93c282b0",
   "metadata": {
    "tags": []
   },
   "outputs": [
    {
     "data": {
      "text/plain": [
       "count    237.000000\n",
       "mean      49.984262\n",
       "std       21.525150\n",
       "min        2.850000\n",
       "25%       31.870000\n",
       "50%       50.080000\n",
       "75%       65.230000\n",
       "max       99.320000\n",
       "Name: Framework STAR Score, dtype: float64"
      ]
     },
     "execution_count": 182,
     "metadata": {},
     "output_type": "execute_result"
    }
   ],
   "source": [
    "DC_full_STAR_sub_2018[\"Framework STAR Score\"].describe()"
   ]
  },
  {
   "cell_type": "code",
   "execution_count": 183,
   "id": "2adc46f3-8789-4fa1-ade0-4dd0a66fa31d",
   "metadata": {},
   "outputs": [
    {
     "data": {
      "image/png": "[encoded data removed]",
      "text/plain": [
       "<Figure size 640x480 with 1 Axes>"
      ]
     },
     "metadata": {},
     "output_type": "display_data"
    },
    {
     "data": {
      "text/plain": [
       "<ggplot: (8790140203313)>"
      ]
     },
     "execution_count": 183,
     "metadata": {},
     "output_type": "execute_result"
    }
   ],
   "source": [
    "ggplot(DC_full_STAR,aes(x=\"year\",y=\"Framework STAR Score\"))+geom_boxplot()"
   ]
  },
  {
   "cell_type": "code",
   "execution_count": 186,
   "id": "59729cb2-3508-4c7b-b3f4-d5eb32ff2219",
   "metadata": {
    "tags": []
   },
   "outputs": [
    {
     "data": {
      "image/png": "[encoded data removed]",
      "text/plain": [
       "<Figure size 640x480 with 1 Axes>"
      ]
     },
     "metadata": {},
     "output_type": "display_data"
    },
    {
     "data": {
      "text/plain": [
       "<ggplot: (8790104041262)>"
      ]
     },
     "execution_count": 186,
     "metadata": {},
     "output_type": "execute_result"
    }
   ],
   "source": [
    "ggplot(DC_full_STAR,aes(x=\"Framework STAR Score\",fill=\"year\"))+geom_histogram(bins=40,position=\"identity\")"
   ]
  },
  {
   "cell_type": "code",
   "execution_count": 187,
   "id": "8f336cf6-1de1-4b8b-95e6-ea750513775a",
   "metadata": {},
   "outputs": [
    {
     "ename": "AttributeError",
     "evalue": "'DataFrame' object has no attribute 'School_Type'",
     "output_type": "error",
     "traceback": [
      "\u001b[0;31m---------------------------------------------------------------------------\u001b[0m",
      "\u001b[0;31mAttributeError\u001b[0m                            Traceback (most recent call last)",
      "Input \u001b[0;32mIn [187]\u001b[0m, in \u001b[0;36m<cell line: 1>\u001b[0;34m()\u001b[0m\n\u001b[0;32m----> 1\u001b[0m school_type1\u001b[38;5;241m=\u001b[39mDC_full_STAR[\u001b[43mDC_full_STAR\u001b[49m\u001b[38;5;241;43m.\u001b[39;49m\u001b[43mSchool_Type\u001b[49m\u001b[38;5;241m==\u001b[39m\u001b[38;5;124m\"\u001b[39m\u001b[38;5;124mCharter (Alternative)\u001b[39m\u001b[38;5;124m\"\u001b[39m]\n\u001b[1;32m      2\u001b[0m school_type2\u001b[38;5;241m=\u001b[39mDC_full_STAR[DC_full_STAR\u001b[38;5;241m.\u001b[39mSchool_Type\u001b[38;5;241m==\u001b[39m\u001b[38;5;124m\"\u001b[39m\u001b[38;5;124mCharter\u001b[39m\u001b[38;5;124m\"\u001b[39m]\n\u001b[1;32m      3\u001b[0m school_type3\u001b[38;5;241m=\u001b[39mDC_full_STAR[DC_full_STAR\u001b[38;5;241m.\u001b[39mSchool_Type\u001b[38;5;241m==\u001b[39m\u001b[38;5;124m\"\u001b[39m\u001b[38;5;124mDCPS (Alternative)\u001b[39m\u001b[38;5;124m\"\u001b[39m]\n",
      "File \u001b[0;32m~/opt/anaconda3/lib/python3.9/site-packages/pandas/core/generic.py:5575\u001b[0m, in \u001b[0;36mNDFrame.__getattr__\u001b[0;34m(self, name)\u001b[0m\n\u001b[1;32m   5568\u001b[0m \u001b[38;5;28;01mif\u001b[39;00m (\n\u001b[1;32m   5569\u001b[0m     name \u001b[38;5;129;01mnot\u001b[39;00m \u001b[38;5;129;01min\u001b[39;00m \u001b[38;5;28mself\u001b[39m\u001b[38;5;241m.\u001b[39m_internal_names_set\n\u001b[1;32m   5570\u001b[0m     \u001b[38;5;129;01mand\u001b[39;00m name \u001b[38;5;129;01mnot\u001b[39;00m \u001b[38;5;129;01min\u001b[39;00m \u001b[38;5;28mself\u001b[39m\u001b[38;5;241m.\u001b[39m_metadata\n\u001b[1;32m   5571\u001b[0m     \u001b[38;5;129;01mand\u001b[39;00m name \u001b[38;5;129;01mnot\u001b[39;00m \u001b[38;5;129;01min\u001b[39;00m \u001b[38;5;28mself\u001b[39m\u001b[38;5;241m.\u001b[39m_accessors\n\u001b[1;32m   5572\u001b[0m     \u001b[38;5;129;01mand\u001b[39;00m \u001b[38;5;28mself\u001b[39m\u001b[38;5;241m.\u001b[39m_info_axis\u001b[38;5;241m.\u001b[39m_can_hold_identifiers_and_holds_name(name)\n\u001b[1;32m   5573\u001b[0m ):\n\u001b[1;32m   5574\u001b[0m     \u001b[38;5;28;01mreturn\u001b[39;00m \u001b[38;5;28mself\u001b[39m[name]\n\u001b[0;32m-> 5575\u001b[0m \u001b[38;5;28;01mreturn\u001b[39;00m \u001b[38;5;28;43mobject\u001b[39;49m\u001b[38;5;241;43m.\u001b[39;49m\u001b[38;5;21;43m__getattribute__\u001b[39;49m\u001b[43m(\u001b[49m\u001b[38;5;28;43mself\u001b[39;49m\u001b[43m,\u001b[49m\u001b[43m \u001b[49m\u001b[43mname\u001b[49m\u001b[43m)\u001b[49m\n",
      "\u001b[0;31mAttributeError\u001b[0m: 'DataFrame' object has no attribute 'School_Type'"
     ]
    }
   ],
   "source": [
    "school_type1=DC_full_STAR[DC_full_STAR.School_Type==\"Charter (Alternative)\"]\n",
    "school_type2=DC_full_STAR[DC_full_STAR.School_Type==\"Charter\"]\n",
    "school_type3=DC_full_STAR[DC_full_STAR.School_Type==\"DCPS (Alternative)\"]\n",
    "school_type4=DC_full_STAR[DC_full_STAR.School_Type==\"DCPS\"]\n",
    "\n",
    "school_type1.School_Type = \"Charter\"\n",
    "school_type3.School_Type = \"DCPS\"\n",
    "\n",
    "DC_full_STAR=pd.concat([school_type1,school_type2,school_type3,school_type4]).reset_index()"
   ]
  },
  {
   "cell_type": "code",
   "execution_count": 63,
   "id": "6ed35cea-df45-44cd-b3a0-b425daea4bf4",
   "metadata": {
    "tags": []
   },
   "outputs": [
    {
     "data": {
      "text/plain": [
       "School_Type\n",
       "Charter     89\n",
       "DCPS       108\n",
       "Name: state, dtype: int64"
      ]
     },
     "execution_count": 63,
     "metadata": {},
     "output_type": "execute_result"
    }
   ],
   "source": [
    "DC_full_STAR.groupby(\"School_Type\")[\"state\"].count()"
   ]
  },
  {
   "cell_type": "code",
   "execution_count": 189,
   "id": "6236db9d-8577-460a-ba9e-125452442235",
   "metadata": {},
   "outputs": [
    {
     "ename": "PlotnineError",
     "evalue": "\"Could not evaluate the 'x' mapping: 'School_Type' (original error: name 'School_Type' is not defined)\"",
     "output_type": "error",
     "traceback": [
      "\u001b[0;31m---------------------------------------------------------------------------\u001b[0m",
      "\u001b[0;31mNameError\u001b[0m                                 Traceback (most recent call last)",
      "File \u001b[0;32m~/opt/anaconda3/lib/python3.9/site-packages/plotnine/mapping/evaluation.py:215\u001b[0m, in \u001b[0;36mevaluate\u001b[0;34m(aesthetics, data, env)\u001b[0m\n\u001b[1;32m    214\u001b[0m \u001b[38;5;28;01mtry\u001b[39;00m:\n\u001b[0;32m--> 215\u001b[0m     new_val \u001b[38;5;241m=\u001b[39m \u001b[43menv\u001b[49m\u001b[38;5;241;43m.\u001b[39;49m\u001b[43meval\u001b[49m\u001b[43m(\u001b[49m\u001b[43mcol\u001b[49m\u001b[43m,\u001b[49m\u001b[43m \u001b[49m\u001b[43minner_namespace\u001b[49m\u001b[38;5;241;43m=\u001b[39;49m\u001b[43mdata\u001b[49m\u001b[43m)\u001b[49m\n\u001b[1;32m    216\u001b[0m \u001b[38;5;28;01mexcept\u001b[39;00m \u001b[38;5;167;01mException\u001b[39;00m \u001b[38;5;28;01mas\u001b[39;00m e:\n",
      "File \u001b[0;32m~/opt/anaconda3/lib/python3.9/site-packages/patsy/eval.py:165\u001b[0m, in \u001b[0;36mEvalEnvironment.eval\u001b[0;34m(self, expr, source_name, inner_namespace)\u001b[0m\n\u001b[1;32m    164\u001b[0m code \u001b[38;5;241m=\u001b[39m \u001b[38;5;28mcompile\u001b[39m(expr, source_name, \u001b[38;5;124m\"\u001b[39m\u001b[38;5;124meval\u001b[39m\u001b[38;5;124m\"\u001b[39m, \u001b[38;5;28mself\u001b[39m\u001b[38;5;241m.\u001b[39mflags, \u001b[38;5;28;01mFalse\u001b[39;00m)\n\u001b[0;32m--> 165\u001b[0m \u001b[38;5;28;01mreturn\u001b[39;00m \u001b[38;5;28;43meval\u001b[39;49m\u001b[43m(\u001b[49m\u001b[43mcode\u001b[49m\u001b[43m,\u001b[49m\u001b[43m \u001b[49m\u001b[43m{\u001b[49m\u001b[43m}\u001b[49m\u001b[43m,\u001b[49m\u001b[43m \u001b[49m\u001b[43mVarLookupDict\u001b[49m\u001b[43m(\u001b[49m\u001b[43m[\u001b[49m\u001b[43minner_namespace\u001b[49m\u001b[43m]\u001b[49m\n\u001b[1;32m    166\u001b[0m \u001b[43m                                    \u001b[49m\u001b[38;5;241;43m+\u001b[39;49m\u001b[43m \u001b[49m\u001b[38;5;28;43mself\u001b[39;49m\u001b[38;5;241;43m.\u001b[39;49m\u001b[43m_namespaces\u001b[49m\u001b[43m)\u001b[49m\u001b[43m)\u001b[49m\n",
      "File \u001b[0;32m<string>:1\u001b[0m, in \u001b[0;36m<module>\u001b[0;34m\u001b[0m\n",
      "\u001b[0;31mNameError\u001b[0m: name 'School_Type' is not defined",
      "\nDuring handling of the above exception, another exception occurred:\n",
      "\u001b[0;31mPlotnineError\u001b[0m                             Traceback (most recent call last)",
      "File \u001b[0;32m~/opt/anaconda3/lib/python3.9/site-packages/IPython/core/formatters.py:707\u001b[0m, in \u001b[0;36mPlainTextFormatter.__call__\u001b[0;34m(self, obj)\u001b[0m\n\u001b[1;32m    700\u001b[0m stream \u001b[38;5;241m=\u001b[39m StringIO()\n\u001b[1;32m    701\u001b[0m printer \u001b[38;5;241m=\u001b[39m pretty\u001b[38;5;241m.\u001b[39mRepresentationPrinter(stream, \u001b[38;5;28mself\u001b[39m\u001b[38;5;241m.\u001b[39mverbose,\n\u001b[1;32m    702\u001b[0m     \u001b[38;5;28mself\u001b[39m\u001b[38;5;241m.\u001b[39mmax_width, \u001b[38;5;28mself\u001b[39m\u001b[38;5;241m.\u001b[39mnewline,\n\u001b[1;32m    703\u001b[0m     max_seq_length\u001b[38;5;241m=\u001b[39m\u001b[38;5;28mself\u001b[39m\u001b[38;5;241m.\u001b[39mmax_seq_length,\n\u001b[1;32m    704\u001b[0m     singleton_pprinters\u001b[38;5;241m=\u001b[39m\u001b[38;5;28mself\u001b[39m\u001b[38;5;241m.\u001b[39msingleton_printers,\n\u001b[1;32m    705\u001b[0m     type_pprinters\u001b[38;5;241m=\u001b[39m\u001b[38;5;28mself\u001b[39m\u001b[38;5;241m.\u001b[39mtype_printers,\n\u001b[1;32m    706\u001b[0m     deferred_pprinters\u001b[38;5;241m=\u001b[39m\u001b[38;5;28mself\u001b[39m\u001b[38;5;241m.\u001b[39mdeferred_printers)\n\u001b[0;32m--> 707\u001b[0m \u001b[43mprinter\u001b[49m\u001b[38;5;241;43m.\u001b[39;49m\u001b[43mpretty\u001b[49m\u001b[43m(\u001b[49m\u001b[43mobj\u001b[49m\u001b[43m)\u001b[49m\n\u001b[1;32m    708\u001b[0m printer\u001b[38;5;241m.\u001b[39mflush()\n\u001b[1;32m    709\u001b[0m \u001b[38;5;28;01mreturn\u001b[39;00m stream\u001b[38;5;241m.\u001b[39mgetvalue()\n",
      "File \u001b[0;32m~/opt/anaconda3/lib/python3.9/site-packages/IPython/lib/pretty.py:410\u001b[0m, in \u001b[0;36mRepresentationPrinter.pretty\u001b[0;34m(self, obj)\u001b[0m\n\u001b[1;32m    407\u001b[0m                         \u001b[38;5;28;01mreturn\u001b[39;00m meth(obj, \u001b[38;5;28mself\u001b[39m, cycle)\n\u001b[1;32m    408\u001b[0m                 \u001b[38;5;28;01mif\u001b[39;00m \u001b[38;5;28mcls\u001b[39m \u001b[38;5;129;01mis\u001b[39;00m \u001b[38;5;129;01mnot\u001b[39;00m \u001b[38;5;28mobject\u001b[39m \\\n\u001b[1;32m    409\u001b[0m                         \u001b[38;5;129;01mand\u001b[39;00m callable(\u001b[38;5;28mcls\u001b[39m\u001b[38;5;241m.\u001b[39m\u001b[38;5;18m__dict__\u001b[39m\u001b[38;5;241m.\u001b[39mget(\u001b[38;5;124m'\u001b[39m\u001b[38;5;124m__repr__\u001b[39m\u001b[38;5;124m'\u001b[39m)):\n\u001b[0;32m--> 410\u001b[0m                     \u001b[38;5;28;01mreturn\u001b[39;00m \u001b[43m_repr_pprint\u001b[49m\u001b[43m(\u001b[49m\u001b[43mobj\u001b[49m\u001b[43m,\u001b[49m\u001b[43m \u001b[49m\u001b[38;5;28;43mself\u001b[39;49m\u001b[43m,\u001b[49m\u001b[43m \u001b[49m\u001b[43mcycle\u001b[49m\u001b[43m)\u001b[49m\n\u001b[1;32m    412\u001b[0m     \u001b[38;5;28;01mreturn\u001b[39;00m _default_pprint(obj, \u001b[38;5;28mself\u001b[39m, cycle)\n\u001b[1;32m    413\u001b[0m \u001b[38;5;28;01mfinally\u001b[39;00m:\n",
      "File \u001b[0;32m~/opt/anaconda3/lib/python3.9/site-packages/IPython/lib/pretty.py:778\u001b[0m, in \u001b[0;36m_repr_pprint\u001b[0;34m(obj, p, cycle)\u001b[0m\n\u001b[1;32m    776\u001b[0m \u001b[38;5;124;03m\"\"\"A pprint that just redirects to the normal repr function.\"\"\"\u001b[39;00m\n\u001b[1;32m    777\u001b[0m \u001b[38;5;66;03m# Find newlines and replace them with p.break_()\u001b[39;00m\n\u001b[0;32m--> 778\u001b[0m output \u001b[38;5;241m=\u001b[39m \u001b[38;5;28;43mrepr\u001b[39;49m\u001b[43m(\u001b[49m\u001b[43mobj\u001b[49m\u001b[43m)\u001b[49m\n\u001b[1;32m    779\u001b[0m lines \u001b[38;5;241m=\u001b[39m output\u001b[38;5;241m.\u001b[39msplitlines()\n\u001b[1;32m    780\u001b[0m \u001b[38;5;28;01mwith\u001b[39;00m p\u001b[38;5;241m.\u001b[39mgroup():\n",
      "File \u001b[0;32m~/opt/anaconda3/lib/python3.9/site-packages/plotnine/ggplot.py:95\u001b[0m, in \u001b[0;36mggplot.__repr__\u001b[0;34m(self)\u001b[0m\n\u001b[1;32m     91\u001b[0m \u001b[38;5;28;01mdef\u001b[39;00m \u001b[38;5;21m__repr__\u001b[39m(\u001b[38;5;28mself\u001b[39m):\n\u001b[1;32m     92\u001b[0m     \u001b[38;5;124;03m\"\"\"\u001b[39;00m\n\u001b[1;32m     93\u001b[0m \u001b[38;5;124;03m    Print/show the plot\u001b[39;00m\n\u001b[1;32m     94\u001b[0m \u001b[38;5;124;03m    \"\"\"\u001b[39;00m\n\u001b[0;32m---> 95\u001b[0m     \u001b[38;5;28;43mself\u001b[39;49m\u001b[38;5;241;43m.\u001b[39;49m\u001b[38;5;21;43m__str__\u001b[39;49m\u001b[43m(\u001b[49m\u001b[43m)\u001b[49m\n\u001b[1;32m     96\u001b[0m     \u001b[38;5;28;01mreturn\u001b[39;00m \u001b[38;5;124m'\u001b[39m\u001b[38;5;124m<ggplot: (\u001b[39m\u001b[38;5;132;01m%d\u001b[39;00m\u001b[38;5;124m)>\u001b[39m\u001b[38;5;124m'\u001b[39m \u001b[38;5;241m%\u001b[39m \u001b[38;5;28mself\u001b[39m\u001b[38;5;241m.\u001b[39m\u001b[38;5;21m__hash__\u001b[39m()\n",
      "File \u001b[0;32m~/opt/anaconda3/lib/python3.9/site-packages/plotnine/ggplot.py:86\u001b[0m, in \u001b[0;36mggplot.__str__\u001b[0;34m(self)\u001b[0m\n\u001b[1;32m     82\u001b[0m \u001b[38;5;28;01mdef\u001b[39;00m \u001b[38;5;21m__str__\u001b[39m(\u001b[38;5;28mself\u001b[39m):\n\u001b[1;32m     83\u001b[0m     \u001b[38;5;124;03m\"\"\"\u001b[39;00m\n\u001b[1;32m     84\u001b[0m \u001b[38;5;124;03m    Print/show the plot\u001b[39;00m\n\u001b[1;32m     85\u001b[0m \u001b[38;5;124;03m    \"\"\"\u001b[39;00m\n\u001b[0;32m---> 86\u001b[0m     \u001b[38;5;28;43mself\u001b[39;49m\u001b[38;5;241;43m.\u001b[39;49m\u001b[43mdraw\u001b[49m\u001b[43m(\u001b[49m\u001b[43mshow\u001b[49m\u001b[38;5;241;43m=\u001b[39;49m\u001b[38;5;28;43;01mTrue\u001b[39;49;00m\u001b[43m)\u001b[49m\n\u001b[1;32m     88\u001b[0m     \u001b[38;5;66;03m# Return and empty string so that print(p) is \"pretty\"\u001b[39;00m\n\u001b[1;32m     89\u001b[0m     \u001b[38;5;28;01mreturn\u001b[39;00m \u001b[38;5;124m'\u001b[39m\u001b[38;5;124m'\u001b[39m\n",
      "File \u001b[0;32m~/opt/anaconda3/lib/python3.9/site-packages/plotnine/ggplot.py:203\u001b[0m, in \u001b[0;36mggplot.draw\u001b[0;34m(self, return_ggplot, show)\u001b[0m\n\u001b[1;32m    201\u001b[0m \u001b[38;5;28mself\u001b[39m \u001b[38;5;241m=\u001b[39m deepcopy(\u001b[38;5;28mself\u001b[39m)\n\u001b[1;32m    202\u001b[0m \u001b[38;5;28;01mwith\u001b[39;00m plot_context(\u001b[38;5;28mself\u001b[39m, show\u001b[38;5;241m=\u001b[39mshow):\n\u001b[0;32m--> 203\u001b[0m     \u001b[38;5;28;43mself\u001b[39;49m\u001b[38;5;241;43m.\u001b[39;49m\u001b[43m_build\u001b[49m\u001b[43m(\u001b[49m\u001b[43m)\u001b[49m\n\u001b[1;32m    205\u001b[0m     \u001b[38;5;66;03m# setup\u001b[39;00m\n\u001b[1;32m    206\u001b[0m     figure, axs \u001b[38;5;241m=\u001b[39m \u001b[38;5;28mself\u001b[39m\u001b[38;5;241m.\u001b[39m_create_figure()\n",
      "File \u001b[0;32m~/opt/anaconda3/lib/python3.9/site-packages/plotnine/ggplot.py:289\u001b[0m, in \u001b[0;36mggplot._build\u001b[0;34m(self)\u001b[0m\n\u001b[1;32m    285\u001b[0m layout\u001b[38;5;241m.\u001b[39msetup(layers, \u001b[38;5;28mself\u001b[39m)\n\u001b[1;32m    287\u001b[0m \u001b[38;5;66;03m# Compute aesthetics to produce data with generalised\u001b[39;00m\n\u001b[1;32m    288\u001b[0m \u001b[38;5;66;03m# variable names\u001b[39;00m\n\u001b[0;32m--> 289\u001b[0m \u001b[43mlayers\u001b[49m\u001b[38;5;241;43m.\u001b[39;49m\u001b[43mcompute_aesthetics\u001b[49m\u001b[43m(\u001b[49m\u001b[38;5;28;43mself\u001b[39;49m\u001b[43m)\u001b[49m\n\u001b[1;32m    291\u001b[0m \u001b[38;5;66;03m# Transform data using all scales\u001b[39;00m\n\u001b[1;32m    292\u001b[0m layers\u001b[38;5;241m.\u001b[39mtransform(scales)\n",
      "File \u001b[0;32m~/opt/anaconda3/lib/python3.9/site-packages/plotnine/layer.py:67\u001b[0m, in \u001b[0;36mLayers.compute_aesthetics\u001b[0;34m(self, plot)\u001b[0m\n\u001b[1;32m     65\u001b[0m \u001b[38;5;28;01mdef\u001b[39;00m \u001b[38;5;21mcompute_aesthetics\u001b[39m(\u001b[38;5;28mself\u001b[39m, plot):\n\u001b[1;32m     66\u001b[0m     \u001b[38;5;28;01mfor\u001b[39;00m l \u001b[38;5;129;01min\u001b[39;00m \u001b[38;5;28mself\u001b[39m:\n\u001b[0;32m---> 67\u001b[0m         \u001b[43ml\u001b[49m\u001b[38;5;241;43m.\u001b[39;49m\u001b[43mcompute_aesthetics\u001b[49m\u001b[43m(\u001b[49m\u001b[43mplot\u001b[49m\u001b[43m)\u001b[49m\n",
      "File \u001b[0;32m~/opt/anaconda3/lib/python3.9/site-packages/plotnine/layer.py:310\u001b[0m, in \u001b[0;36mlayer.compute_aesthetics\u001b[0;34m(self, plot)\u001b[0m\n\u001b[1;32m    302\u001b[0m \u001b[38;5;28;01mdef\u001b[39;00m \u001b[38;5;21mcompute_aesthetics\u001b[39m(\u001b[38;5;28mself\u001b[39m, plot):\n\u001b[1;32m    303\u001b[0m     \u001b[38;5;124;03m\"\"\"\u001b[39;00m\n\u001b[1;32m    304\u001b[0m \u001b[38;5;124;03m    Return a dataframe where the columns match the\u001b[39;00m\n\u001b[1;32m    305\u001b[0m \u001b[38;5;124;03m    aesthetic mappings.\u001b[39;00m\n\u001b[0;32m   (...)\u001b[0m\n\u001b[1;32m    308\u001b[0m \u001b[38;5;124;03m    expression evaluation are  made in here\u001b[39;00m\n\u001b[1;32m    309\u001b[0m \u001b[38;5;124;03m    \"\"\"\u001b[39;00m\n\u001b[0;32m--> 310\u001b[0m     evaled \u001b[38;5;241m=\u001b[39m \u001b[43mevaluate\u001b[49m\u001b[43m(\u001b[49m\u001b[38;5;28;43mself\u001b[39;49m\u001b[38;5;241;43m.\u001b[39;49m\u001b[43mmapping\u001b[49m\u001b[38;5;241;43m.\u001b[39;49m\u001b[43m_starting\u001b[49m\u001b[43m,\u001b[49m\u001b[43m \u001b[49m\u001b[38;5;28;43mself\u001b[39;49m\u001b[38;5;241;43m.\u001b[39;49m\u001b[43mdata\u001b[49m\u001b[43m,\u001b[49m\u001b[43m \u001b[49m\u001b[43mplot\u001b[49m\u001b[38;5;241;43m.\u001b[39;49m\u001b[43menvironment\u001b[49m\u001b[43m)\u001b[49m\n\u001b[1;32m    311\u001b[0m     evaled_aes \u001b[38;5;241m=\u001b[39m aes(\u001b[38;5;241m*\u001b[39m\u001b[38;5;241m*\u001b[39m{col: col \u001b[38;5;28;01mfor\u001b[39;00m col \u001b[38;5;129;01min\u001b[39;00m evaled})\n\u001b[1;32m    312\u001b[0m     plot\u001b[38;5;241m.\u001b[39mscales\u001b[38;5;241m.\u001b[39madd_defaults(evaled, evaled_aes)\n",
      "File \u001b[0;32m~/opt/anaconda3/lib/python3.9/site-packages/plotnine/mapping/evaluation.py:217\u001b[0m, in \u001b[0;36mevaluate\u001b[0;34m(aesthetics, data, env)\u001b[0m\n\u001b[1;32m    215\u001b[0m     new_val \u001b[38;5;241m=\u001b[39m env\u001b[38;5;241m.\u001b[39meval(col, inner_namespace\u001b[38;5;241m=\u001b[39mdata)\n\u001b[1;32m    216\u001b[0m \u001b[38;5;28;01mexcept\u001b[39;00m \u001b[38;5;167;01mException\u001b[39;00m \u001b[38;5;28;01mas\u001b[39;00m e:\n\u001b[0;32m--> 217\u001b[0m     \u001b[38;5;28;01mraise\u001b[39;00m PlotnineError(\n\u001b[1;32m    218\u001b[0m         _TPL_EVAL_FAIL\u001b[38;5;241m.\u001b[39mformat(ae, col, \u001b[38;5;28mstr\u001b[39m(e)))\n\u001b[1;32m    220\u001b[0m \u001b[38;5;28;01mtry\u001b[39;00m:\n\u001b[1;32m    221\u001b[0m     evaled[ae] \u001b[38;5;241m=\u001b[39m new_val\n",
      "\u001b[0;31mPlotnineError\u001b[0m: \"Could not evaluate the 'x' mapping: 'School_Type' (original error: name 'School_Type' is not defined)\""
     ]
    }
   ],
   "source": [
    "ggplot(DC_full_STAR,aes(x=\"School_Type\",y=\"STAR_Score\"))+geom_boxplot()"
   ]
  },
  {
   "cell_type": "markdown",
   "id": "2980435e-f3cf-453a-8cb6-d927cdc119a8",
   "metadata": {},
   "source": [
    "The variation of DCPS School is much larger, both the best and worst school are DCPS.Charter school is much stable."
   ]
  },
  {
   "cell_type": "markdown",
   "id": "8d491f1c-b8bd-4e98-80e1-d40b5ba4f242",
   "metadata": {},
   "source": [
    "From the boxplot and histogram. The distribution of the STAR is roughly close to normal distribution. Also there are not outliers."
   ]
  },
  {
   "cell_type": "code",
   "execution_count": 30,
   "id": "8d5390c2-60e4-40b4-a23d-5fbdcb4ede54",
   "metadata": {
    "tags": []
   },
   "outputs": [
    {
     "data": {
      "text/html": [
       "<div>\n",
       "<style scoped>\n",
       "    .dataframe tbody tr th:only-of-type {\n",
       "        vertical-align: middle;\n",
       "    }\n",
       "\n",
       "    .dataframe tbody tr th {\n",
       "        vertical-align: top;\n",
       "    }\n",
       "\n",
       "    .dataframe thead th {\n",
       "        text-align: right;\n",
       "    }\n",
       "</style>\n",
       "<table border=\"1\" class=\"dataframe\">\n",
       "  <thead>\n",
       "    <tr style=\"text-align: right;\">\n",
       "      <th></th>\n",
       "      <th>LEA_Code</th>\n",
       "      <th>LEA_Name</th>\n",
       "      <th>School_Code</th>\n",
       "      <th>School_Name</th>\n",
       "      <th>School_Type</th>\n",
       "      <th>Ward</th>\n",
       "      <th>STAR_Score</th>\n",
       "      <th>STAR_Rating</th>\n",
       "      <th>ObjectId</th>\n",
       "    </tr>\n",
       "  </thead>\n",
       "  <tbody>\n",
       "    <tr>\n",
       "      <th>0</th>\n",
       "      <td>133</td>\n",
       "      <td>Maya Angelou PCS</td>\n",
       "      <td>101</td>\n",
       "      <td>Maya Angelou PCS - High School</td>\n",
       "      <td>Charter (Alternative)</td>\n",
       "      <td>7</td>\n",
       "      <td>48.21</td>\n",
       "      <td>3</td>\n",
       "      <td>159</td>\n",
       "    </tr>\n",
       "    <tr>\n",
       "      <th>1</th>\n",
       "      <td>109</td>\n",
       "      <td>Cesar Chavez PCS for Public Policy</td>\n",
       "      <td>102</td>\n",
       "      <td>Cesar Chavez PCS for Public Policy - Parkside ...</td>\n",
       "      <td>Charter</td>\n",
       "      <td>7</td>\n",
       "      <td>35.63</td>\n",
       "      <td>2</td>\n",
       "      <td>33</td>\n",
       "    </tr>\n",
       "    <tr>\n",
       "      <th>2</th>\n",
       "      <td>109</td>\n",
       "      <td>Cesar Chavez PCS for Public Policy</td>\n",
       "      <td>109</td>\n",
       "      <td>Cesar Chavez PCS for Public Policy - Parkside ...</td>\n",
       "      <td>Charter</td>\n",
       "      <td>7</td>\n",
       "      <td>47.68</td>\n",
       "      <td>3</td>\n",
       "      <td>32</td>\n",
       "    </tr>\n",
       "    <tr>\n",
       "      <th>3</th>\n",
       "      <td>120</td>\n",
       "      <td>Friendship PCS</td>\n",
       "      <td>113</td>\n",
       "      <td>Friendship PCS - Southeast Academy</td>\n",
       "      <td>Charter</td>\n",
       "      <td>8</td>\n",
       "      <td>35.96</td>\n",
       "      <td>2</td>\n",
       "      <td>69</td>\n",
       "    </tr>\n",
       "    <tr>\n",
       "      <th>4</th>\n",
       "      <td>121</td>\n",
       "      <td>Hope Community PCS</td>\n",
       "      <td>114</td>\n",
       "      <td>Hope Community PCS - Tolson</td>\n",
       "      <td>Charter</td>\n",
       "      <td>5</td>\n",
       "      <td>51.40</td>\n",
       "      <td>3</td>\n",
       "      <td>81</td>\n",
       "    </tr>\n",
       "    <tr>\n",
       "      <th>...</th>\n",
       "      <td>...</td>\n",
       "      <td>...</td>\n",
       "      <td>...</td>\n",
       "      <td>...</td>\n",
       "      <td>...</td>\n",
       "      <td>...</td>\n",
       "      <td>...</td>\n",
       "      <td>...</td>\n",
       "      <td>...</td>\n",
       "    </tr>\n",
       "    <tr>\n",
       "      <th>198</th>\n",
       "      <td>167</td>\n",
       "      <td>Richard Wright PCS for Journalism and Media Arts</td>\n",
       "      <td>3067</td>\n",
       "      <td>Richard Wright PCS for Journalism and Media Arts</td>\n",
       "      <td>Charter</td>\n",
       "      <td>6</td>\n",
       "      <td>50.00</td>\n",
       "      <td>3</td>\n",
       "      <td>186</td>\n",
       "    </tr>\n",
       "    <tr>\n",
       "      <th>199</th>\n",
       "      <td>168</td>\n",
       "      <td>Basis DC PCS</td>\n",
       "      <td>3068</td>\n",
       "      <td>BASIS DC PCS</td>\n",
       "      <td>Charter</td>\n",
       "      <td>2</td>\n",
       "      <td>88.42</td>\n",
       "      <td>5</td>\n",
       "      <td>187</td>\n",
       "    </tr>\n",
       "    <tr>\n",
       "      <th>200</th>\n",
       "      <td>169</td>\n",
       "      <td>Creative Minds International PCS</td>\n",
       "      <td>3069</td>\n",
       "      <td>Creative Minds International PCS</td>\n",
       "      <td>Charter</td>\n",
       "      <td>5</td>\n",
       "      <td>40.76</td>\n",
       "      <td>3</td>\n",
       "      <td>188</td>\n",
       "    </tr>\n",
       "    <tr>\n",
       "      <th>201</th>\n",
       "      <td>170</td>\n",
       "      <td>DC Scholars PCS</td>\n",
       "      <td>3070</td>\n",
       "      <td>DC Scholars PCS</td>\n",
       "      <td>Charter</td>\n",
       "      <td>7</td>\n",
       "      <td>24.97</td>\n",
       "      <td>2</td>\n",
       "      <td>189</td>\n",
       "    </tr>\n",
       "    <tr>\n",
       "      <th>202</th>\n",
       "      <td>129</td>\n",
       "      <td>KIPP DC PCS</td>\n",
       "      <td>3071</td>\n",
       "      <td>KIPP DC - Heights Academy PCS</td>\n",
       "      <td>Charter</td>\n",
       "      <td>8</td>\n",
       "      <td>66.23</td>\n",
       "      <td>4</td>\n",
       "      <td>90</td>\n",
       "    </tr>\n",
       "  </tbody>\n",
       "</table>\n",
       "<p>203 rows × 9 columns</p>\n",
       "</div>"
      ],
      "text/plain": [
       "     LEA_Code                                          LEA_Name  School_Code  \\\n",
       "0         133                                  Maya Angelou PCS          101   \n",
       "1         109                Cesar Chavez PCS for Public Policy          102   \n",
       "2         109                Cesar Chavez PCS for Public Policy          109   \n",
       "3         120                                    Friendship PCS          113   \n",
       "4         121                                Hope Community PCS          114   \n",
       "..        ...                                               ...          ...   \n",
       "198       167  Richard Wright PCS for Journalism and Media Arts         3067   \n",
       "199       168                                      Basis DC PCS         3068   \n",
       "200       169                  Creative Minds International PCS         3069   \n",
       "201       170                                   DC Scholars PCS         3070   \n",
       "202       129                                       KIPP DC PCS         3071   \n",
       "\n",
       "                                           School_Name            School_Type  \\\n",
       "0                       Maya Angelou PCS - High School  Charter (Alternative)   \n",
       "1    Cesar Chavez PCS for Public Policy - Parkside ...                Charter   \n",
       "2    Cesar Chavez PCS for Public Policy - Parkside ...                Charter   \n",
       "3                   Friendship PCS - Southeast Academy                Charter   \n",
       "4                          Hope Community PCS - Tolson                Charter   \n",
       "..                                                 ...                    ...   \n",
       "198   Richard Wright PCS for Journalism and Media Arts                Charter   \n",
       "199                                       BASIS DC PCS                Charter   \n",
       "200                   Creative Minds International PCS                Charter   \n",
       "201                                    DC Scholars PCS                Charter   \n",
       "202                      KIPP DC - Heights Academy PCS                Charter   \n",
       "\n",
       "     Ward  STAR_Score  STAR_Rating  ObjectId  \n",
       "0       7       48.21            3       159  \n",
       "1       7       35.63            2        33  \n",
       "2       7       47.68            3        32  \n",
       "3       8       35.96            2        69  \n",
       "4       5       51.40            3        81  \n",
       "..    ...         ...          ...       ...  \n",
       "198     6       50.00            3       186  \n",
       "199     2       88.42            5       187  \n",
       "200     5       40.76            3       188  \n",
       "201     7       24.97            2       189  \n",
       "202     8       66.23            4        90  \n",
       "\n",
       "[203 rows x 9 columns]"
      ]
     },
     "execution_count": 30,
     "metadata": {},
     "output_type": "execute_result"
    }
   ],
   "source": [
    "DC_PER_STAR"
   ]
  },
  {
   "cell_type": "markdown",
   "id": "11f7e492-121d-483c-8d1e-704069ba8a62",
   "metadata": {},
   "source": [
    "## 5. Further Research"
   ]
  },
  {
   "cell_type": "markdown",
   "id": "ba68f71b-16f9-4d99-bdd4-bb3a614aeb1b",
   "metadata": {},
   "source": [
    "### 5.1 Replicate of Visualization  \n",
    "Reference link:https://public.tableau.com/app/profile/edunomicslab/viz/DCScatter/DCFY18-19"
   ]
  },
  {
   "cell_type": "code",
   "execution_count": 197,
   "id": "121588c9-a10b-4cb7-bedd-222f43b6fe5c",
   "metadata": {},
   "outputs": [
    {
     "data": {
      "image/png": "[encoded data removed]",
      "text/plain": [
       "<Figure size 640x480 with 1 Axes>"
      ]
     },
     "metadata": {},
     "output_type": "display_data"
    },
    {
     "data": {
      "text/plain": [
       "<ggplot: (8790100378302)>"
      ]
     },
     "execution_count": 197,
     "metadata": {},
     "output_type": "execute_result"
    }
   ],
   "source": [
    "DC_full_STAR_2018['pp_total_raw_DC']=DC_full_STAR_2018['pp_total_raw_DC'].astype(str).astype(int)\n",
    "DC_full_STAR_2018[\"enroll_raw_DC\"]=DC_full_STAR_2018['enroll_raw_DC'].astype(str).astype(int)\n",
    "plot_data_5_1=DC_full_STAR_2018[DC_full_STAR_2018[\"pp_total_raw_DC\"]<60000]\n",
    "ggplot(plot_data_5_1,aes(x=\"pp_total_raw_DC\",y=\"Framework STAR Score\"))\\\n",
    "+geom_point(aes(shape=\"School Type\",size=\"enroll_raw_DC\"))\\\n",
    "+theme_bw()"
   ]
  },
  {
   "cell_type": "code",
   "execution_count": null,
   "id": "6f34c8a0-996a-4613-acd2-7644a3bb94eb",
   "metadata": {},
   "outputs": [],
   "source": []
  }
 ],
 "metadata": {
  "kernelspec": {
   "display_name": "Python 3 (ipykernel)",
   "language": "python",
   "name": "python3"
  },
  "language_info": {
   "codemirror_mode": {
    "name": "ipython",
    "version": 3
   },
   "file_extension": ".py",
   "mimetype": "text/x-python",
   "name": "python",
   "nbconvert_exporter": "python",
   "pygments_lexer": "ipython3",
   "version": "3.9.12"
  }
 },
 "nbformat": 4,
 "nbformat_minor": 5
}
