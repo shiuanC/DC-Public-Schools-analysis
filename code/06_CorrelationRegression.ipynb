{
 "cells": [
  {
   "cell_type": "code",
   "execution_count": 2,
   "id": "9e37191e",
   "metadata": {},
   "outputs": [],
   "source": [
    "import pandas as pd\n",
    "import numpy as np\n",
    "\n",
    "from statsmodels.compat import lzip\n",
    "import numpy as np\n",
    "import matplotlib.pyplot as plt\n",
    "import statsmodels.api as sm\n",
    "from statsmodels.formula.api import ols"
   ]
  },
  {
   "cell_type": "code",
   "execution_count": 12,
   "id": "82ee5233",
   "metadata": {},
   "outputs": [],
   "source": [
    "all_df = pd.read_csv(\"../Dataset/final_data/final_data.csv\")"
   ]
  },
  {
   "cell_type": "code",
   "execution_count": 13,
   "id": "d9b987a4",
   "metadata": {},
   "outputs": [],
   "source": [
    "all_df['risk'] = [0 if r < 50 else 1 for r in all_df['diversity_At-Risk_(%)']]"
   ]
  },
  {
   "cell_type": "code",
   "execution_count": 14,
   "id": "f59397cc",
   "metadata": {},
   "outputs": [
    {
     "data": {
      "text/plain": [
       "Index(['Unnamed: 0', 'Unnamed: 0_x', 'School_Code', 'STAR_Score_18',\n",
       "       'STAR_Rating_18', 'STAR_Score_19', 'STAR_Rating_19', 'STAR_Score_inc',\n",
       "       'STAR_Score_inc(%)', 'STAR_Rating_inc(%)', 'STAR_Score_change(%)',\n",
       "       'STAR_Rating_change(%)', 'STAR_Score_change', 'STAR_Rating_change',\n",
       "       'Unnamed: 0_y', 'schoolname', 'level', 'schtype_raw_DC', 'Dist_Code',\n",
       "       'distname', 'pp_total_raw_DC_1819', 'pp_site_raw_DC_1819',\n",
       "       'pp_centshare_raw_DC_1819', 'schoolstloc_raw_DC_1819',\n",
       "       'enroll_raw_DC_1819', 'pp_total_raw_DC_1920', 'pp_site_raw_DC_1920',\n",
       "       'pp_centshare_raw_DC_1920', 'schoolstloc_raw_DC_1920',\n",
       "       'enroll_raw_DC_1920', 'pp_total_raw_DC_inc(%)', 'pp_total_raw_DC_inc',\n",
       "       'pp_site_raw_DC_inc(%)', 'pp_site_raw_DC_inc',\n",
       "       'pp_centshare_raw_DC_inc(%)', 'pp_centshare_raw_DC_inc',\n",
       "       'schoolstloc_raw_DC_inc(%)', 'schoolstloc_raw_DC_inc',\n",
       "       'enroll_raw_DC_inc(%)', 'enroll_raw_DC_inc', 'diversity_Unnamed: 0',\n",
       "       'Ward', 'Total_Count_of_Students', 'diversity_At-Risk_(%)',\n",
       "       'diversity_Socieconomic_Diversity_Score,_2018-19_(%)',\n",
       "       'diversity_Socieconomic_Diversity_Score,_2016-17_(%)',\n",
       "       'diversity_Change_in_Socieconomic_Diversity_Score,_from_2016-17_to_2018-19_(percentage_points)',\n",
       "       'diversity_risk_level', 'risk'],\n",
       "      dtype='object')"
      ]
     },
     "execution_count": 14,
     "metadata": {},
     "output_type": "execute_result"
    }
   ],
   "source": [
    "all_df.columns\n"
   ]
  },
  {
   "cell_type": "markdown",
   "id": "f181999c",
   "metadata": {},
   "source": [
    "# Regression Model "
   ]
  },
  {
   "cell_type": "markdown",
   "id": "0fc7fdad",
   "metadata": {},
   "source": [
    "## Analyzing the effect of change in per-pupil expenditures on the change in STAR score "
   ]
  },
  {
   "cell_type": "code",
   "execution_count": 16,
   "id": "5b960d88",
   "metadata": {},
   "outputs": [
    {
     "name": "stdout",
     "output_type": "stream",
     "text": [
      "                            OLS Regression Results                            \n",
      "==============================================================================\n",
      "Dep. Variable:          STAR_Score_19   R-squared:                       0.140\n",
      "Model:                            OLS   Adj. R-squared:                  0.135\n",
      "Method:                 Least Squares   F-statistic:                     30.60\n",
      "Date:                Sat, 03 Dec 2022   Prob (F-statistic):           1.05e-07\n",
      "Time:                        14:31:40   Log-Likelihood:                -835.91\n",
      "No. Observations:                 190   AIC:                             1676.\n",
      "Df Residuals:                     188   BIC:                             1682.\n",
      "Df Model:                           1                                         \n",
      "Covariance Type:            nonrobust                                         \n",
      "========================================================================================\n",
      "                           coef    std err          t      P>|t|      [0.025      0.975]\n",
      "----------------------------------------------------------------------------------------\n",
      "Intercept               82.3239      5.780     14.244      0.000      70.923      93.725\n",
      "pp_total_raw_DC_1920    -0.0014      0.000     -5.532      0.000      -0.002      -0.001\n",
      "==============================================================================\n",
      "Omnibus:                        9.862   Durbin-Watson:                   2.045\n",
      "Prob(Omnibus):                  0.007   Jarque-Bera (JB):                4.367\n",
      "Skew:                          -0.033   Prob(JB):                        0.113\n",
      "Kurtosis:                       2.260   Cond. No.                     9.28e+04\n",
      "==============================================================================\n",
      "\n",
      "Notes:\n",
      "[1] Standard Errors assume that the covariance matrix of the errors is correctly specified.\n",
      "[2] The condition number is large, 9.28e+04. This might indicate that there are\n",
      "strong multicollinearity or other numerical problems.\n"
     ]
    }
   ],
   "source": [
    "model = ols(\"STAR_Score_change ~ pp_total_raw_DC_inc\", data=all_df).fit()\n",
    "print(prestige_model.summary())"
   ]
  },
  {
   "cell_type": "code",
   "execution_count": 5,
   "id": "833e3bfe",
   "metadata": {},
   "outputs": [
    {
     "name": "stdout",
     "output_type": "stream",
     "text": [
      "                            OLS Regression Results                            \n",
      "==============================================================================\n",
      "Dep. Variable:          STAR_Score_19   R-squared:                       0.140\n",
      "Model:                            OLS   Adj. R-squared:                  0.135\n",
      "Method:                 Least Squares   F-statistic:                     30.60\n",
      "Date:                Sat, 03 Dec 2022   Prob (F-statistic):           1.05e-07\n",
      "Time:                        14:16:33   Log-Likelihood:                -835.91\n",
      "No. Observations:                 190   AIC:                             1676.\n",
      "Df Residuals:                     188   BIC:                             1682.\n",
      "Df Model:                           1                                         \n",
      "Covariance Type:            nonrobust                                         \n",
      "========================================================================================\n",
      "                           coef    std err          t      P>|t|      [0.025      0.975]\n",
      "----------------------------------------------------------------------------------------\n",
      "Intercept               82.3239      5.780     14.244      0.000      70.923      93.725\n",
      "pp_total_raw_DC_1920    -0.0014      0.000     -5.532      0.000      -0.002      -0.001\n",
      "==============================================================================\n",
      "Omnibus:                        9.862   Durbin-Watson:                   2.045\n",
      "Prob(Omnibus):                  0.007   Jarque-Bera (JB):                4.367\n",
      "Skew:                          -0.033   Prob(JB):                        0.113\n",
      "Kurtosis:                       2.260   Cond. No.                     9.28e+04\n",
      "==============================================================================\n",
      "\n",
      "Notes:\n",
      "[1] Standard Errors assume that the covariance matrix of the errors is correctly specified.\n",
      "[2] The condition number is large, 9.28e+04. This might indicate that there are\n",
      "strong multicollinearity or other numerical problems.\n"
     ]
    }
   ],
   "source": [
    "prestige_model = ols(\"STAR_Score_19 ~ pp_total_raw_DC_1920\", data=all_df).fit()\n",
    "print(prestige_model.summary())"
   ]
  },
  {
   "cell_type": "code",
   "execution_count": null,
   "id": "1005231b",
   "metadata": {},
   "outputs": [],
   "source": []
  }
 ],
 "metadata": {
  "kernelspec": {
   "display_name": "Python 3 (ipykernel)",
   "language": "python",
   "name": "python3"
  },
  "language_info": {
   "codemirror_mode": {
    "name": "ipython",
    "version": 3
   },
   "file_extension": ".py",
   "mimetype": "text/x-python",
   "name": "python",
   "nbconvert_exporter": "python",
   "pygments_lexer": "ipython3",
   "version": "3.9.12"
  }
 },
 "nbformat": 4,
 "nbformat_minor": 5
}
