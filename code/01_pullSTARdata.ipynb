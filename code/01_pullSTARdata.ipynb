{
 "cells": [
  {
   "cell_type": "markdown",
   "id": "d34e82c5",
   "metadata": {
    "id": "d34e82c5"
   },
   "source": [
    "# STAR Data on D.C school's performance"
   ]
  },
  {
   "cell_type": "code",
   "execution_count": 1,
   "id": "66d54093",
   "metadata": {
    "id": "66d54093"
   },
   "outputs": [],
   "source": [
    "import pandas as pd\n",
    "import numpy as np\n",
    "\n",
    "from itertools import combinations\n"
   ]
  },
  {
   "cell_type": "code",
   "execution_count": 2,
   "id": "78126b83",
   "metadata": {
    "id": "78126b83"
   },
   "outputs": [],
   "source": [
    "path = \"../Dataset/\""
   ]
  },
  {
   "cell_type": "code",
   "execution_count": 3,
   "id": "2c8b1343",
   "metadata": {
    "colab": {
     "base_uri": "https://localhost:8080/",
     "height": 545
    },
    "id": "2c8b1343",
    "outputId": "cb304524-284e-4f48-9b91-a5a9a18e1036"
   },
   "outputs": [
    {
     "data": {
      "text/html": [
       "<div>\n",
       "<style scoped>\n",
       "    .dataframe tbody tr th:only-of-type {\n",
       "        vertical-align: middle;\n",
       "    }\n",
       "\n",
       "    .dataframe tbody tr th {\n",
       "        vertical-align: top;\n",
       "    }\n",
       "\n",
       "    .dataframe thead th {\n",
       "        text-align: right;\n",
       "    }\n",
       "</style>\n",
       "<table border=\"1\" class=\"dataframe\">\n",
       "  <thead>\n",
       "    <tr style=\"text-align: right;\">\n",
       "      <th></th>\n",
       "      <th>LEA Code</th>\n",
       "      <th>LEA Name</th>\n",
       "      <th>School Code</th>\n",
       "      <th>School Name</th>\n",
       "      <th>School Type</th>\n",
       "      <th>Ward</th>\n",
       "      <th>Accountability Framework</th>\n",
       "      <th>Framework Weight</th>\n",
       "      <th>Framework Points Earned</th>\n",
       "      <th>Framework Points Possible</th>\n",
       "      <th>Framework STAR Score</th>\n",
       "      <th>Framework STAR Rating</th>\n",
       "      <th>School Year</th>\n",
       "    </tr>\n",
       "  </thead>\n",
       "  <tbody>\n",
       "    <tr>\n",
       "      <th>0</th>\n",
       "      <td>1</td>\n",
       "      <td>District of Columbia Public Schools</td>\n",
       "      <td>175</td>\n",
       "      <td>School-Within-School @ Goding</td>\n",
       "      <td>DCPS</td>\n",
       "      <td>6</td>\n",
       "      <td>Elementary School with Pre-Kindergarten</td>\n",
       "      <td>100</td>\n",
       "      <td>79</td>\n",
       "      <td>90</td>\n",
       "      <td>88</td>\n",
       "      <td>5</td>\n",
       "      <td>2019</td>\n",
       "    </tr>\n",
       "    <tr>\n",
       "      <th>1</th>\n",
       "      <td>1</td>\n",
       "      <td>District of Columbia Public Schools</td>\n",
       "      <td>202</td>\n",
       "      <td>Aiton Elementary School</td>\n",
       "      <td>DCPS</td>\n",
       "      <td>7</td>\n",
       "      <td>Elementary School with Pre-Kindergarten</td>\n",
       "      <td>100</td>\n",
       "      <td>10</td>\n",
       "      <td>95</td>\n",
       "      <td>11</td>\n",
       "      <td>1</td>\n",
       "      <td>2019</td>\n",
       "    </tr>\n",
       "    <tr>\n",
       "      <th>2</th>\n",
       "      <td>1</td>\n",
       "      <td>District of Columbia Public Schools</td>\n",
       "      <td>203</td>\n",
       "      <td>Amidon-Bowen Elementary School</td>\n",
       "      <td>DCPS</td>\n",
       "      <td>6</td>\n",
       "      <td>Elementary School with Pre-Kindergarten</td>\n",
       "      <td>100</td>\n",
       "      <td>46</td>\n",
       "      <td>95</td>\n",
       "      <td>49</td>\n",
       "      <td>3</td>\n",
       "      <td>2019</td>\n",
       "    </tr>\n",
       "    <tr>\n",
       "      <th>3</th>\n",
       "      <td>1</td>\n",
       "      <td>District of Columbia Public Schools</td>\n",
       "      <td>204</td>\n",
       "      <td>Bancroft Elementary School @ Sharpe</td>\n",
       "      <td>DCPS</td>\n",
       "      <td>1</td>\n",
       "      <td>Elementary School with Pre-Kindergarten</td>\n",
       "      <td>100</td>\n",
       "      <td>83</td>\n",
       "      <td>100</td>\n",
       "      <td>83</td>\n",
       "      <td>5</td>\n",
       "      <td>2019</td>\n",
       "    </tr>\n",
       "    <tr>\n",
       "      <th>4</th>\n",
       "      <td>1</td>\n",
       "      <td>District of Columbia Public Schools</td>\n",
       "      <td>205</td>\n",
       "      <td>Barnard Elementary School</td>\n",
       "      <td>DCPS</td>\n",
       "      <td>4</td>\n",
       "      <td>Elementary School with Pre-Kindergarten</td>\n",
       "      <td>100</td>\n",
       "      <td>73</td>\n",
       "      <td>100</td>\n",
       "      <td>73</td>\n",
       "      <td>4</td>\n",
       "      <td>2019</td>\n",
       "    </tr>\n",
       "  </tbody>\n",
       "</table>\n",
       "</div>"
      ],
      "text/plain": [
       "   LEA Code                             LEA Name  School Code  \\\n",
       "0         1  District of Columbia Public Schools          175   \n",
       "1         1  District of Columbia Public Schools          202   \n",
       "2         1  District of Columbia Public Schools          203   \n",
       "3         1  District of Columbia Public Schools          204   \n",
       "4         1  District of Columbia Public Schools          205   \n",
       "\n",
       "                           School Name School Type  Ward  \\\n",
       "0        School-Within-School @ Goding        DCPS     6   \n",
       "1              Aiton Elementary School        DCPS     7   \n",
       "2       Amidon-Bowen Elementary School        DCPS     6   \n",
       "3  Bancroft Elementary School @ Sharpe        DCPS     1   \n",
       "4            Barnard Elementary School        DCPS     4   \n",
       "\n",
       "                  Accountability Framework  Framework Weight  \\\n",
       "0  Elementary School with Pre-Kindergarten               100   \n",
       "1  Elementary School with Pre-Kindergarten               100   \n",
       "2  Elementary School with Pre-Kindergarten               100   \n",
       "3  Elementary School with Pre-Kindergarten               100   \n",
       "4  Elementary School with Pre-Kindergarten               100   \n",
       "\n",
       "   Framework Points Earned  Framework Points Possible  Framework STAR Score  \\\n",
       "0                       79                         90                    88   \n",
       "1                       10                         95                    11   \n",
       "2                       46                         95                    49   \n",
       "3                       83                        100                    83   \n",
       "4                       73                        100                    73   \n",
       "\n",
       "   Framework STAR Rating  School Year  \n",
       "0                      5         2019  \n",
       "1                      1         2019  \n",
       "2                      3         2019  \n",
       "3                      5         2019  \n",
       "4                      4         2019  "
      ]
     },
     "execution_count": 3,
     "metadata": {},
     "output_type": "execute_result"
    }
   ],
   "source": [
    "star_19 = pd.read_csv('../Dataset/OSSEDC/2019/2019_STAR_Score.csv')  \n",
    "star_18 = pd.read_csv('../Dataset/OSSEDC/2018/2018_STAR_Score.csv')  \n",
    "star_19.head()\n",
    "#star_18.head()"
   ]
  },
  {
   "cell_type": "code",
   "execution_count": 4,
   "id": "6bc07636-33f1-4404-995a-95a2fee7ee07",
   "metadata": {},
   "outputs": [
    {
     "data": {
      "text/plain": [
       "Index(['LEA Code', 'LEA Name', 'School Code', 'School Name', 'School Type',\n",
       "       'Ward', 'Accountability Framework', 'Framework Weight',\n",
       "       'Framework Points Earned', 'Framework Points Possible',\n",
       "       'Framework STAR Score', 'Framework STAR Rating', 'School Year'],\n",
       "      dtype='object')"
      ]
     },
     "execution_count": 4,
     "metadata": {},
     "output_type": "execute_result"
    }
   ],
   "source": [
    "star_19.columns"
   ]
  },
  {
   "cell_type": "code",
   "execution_count": 5,
   "id": "5f1c08a7",
   "metadata": {
    "colab": {
     "base_uri": "https://localhost:8080/"
    },
    "collapsed": true,
    "id": "5f1c08a7",
    "jupyter": {
     "outputs_hidden": true
    },
    "outputId": "03e40440-3b4c-4234-c255-2305a22160b1",
    "tags": []
   },
   "outputs": [
    {
     "name": "stdout",
     "output_type": "stream",
     "text": [
      "<class 'pandas.core.frame.DataFrame'>\n",
      "RangeIndex: 251 entries, 0 to 250\n",
      "Data columns (total 13 columns):\n",
      " #   Column                     Non-Null Count  Dtype \n",
      "---  ------                     --------------  ----- \n",
      " 0   LEA_Code                   251 non-null    int64 \n",
      " 1   LEA_Name                   251 non-null    object\n",
      " 2   School_Code                251 non-null    int64 \n",
      " 3   School_Name                251 non-null    object\n",
      " 4   School_Type                251 non-null    object\n",
      " 5   Ward                       251 non-null    int64 \n",
      " 6   Accountability_Framework   251 non-null    object\n",
      " 7   Framework_Weight           251 non-null    int64 \n",
      " 8   Framework_Points_Earned    251 non-null    int64 \n",
      " 9   Framework_Points_Possible  251 non-null    int64 \n",
      " 10  Framework_STAR_Score       251 non-null    int64 \n",
      " 11  Framework_STAR_Rating      251 non-null    int64 \n",
      " 12  School_Year                251 non-null    int64 \n",
      "dtypes: int64(9), object(4)\n",
      "memory usage: 25.6+ KB\n",
      "<class 'pandas.core.frame.DataFrame'>\n",
      "RangeIndex: 203 entries, 0 to 202\n",
      "Data columns (total 9 columns):\n",
      " #   Column       Non-Null Count  Dtype  \n",
      "---  ------       --------------  -----  \n",
      " 0   LEA_Code     203 non-null    int64  \n",
      " 1   LEA_Name     203 non-null    object \n",
      " 2   School_Code  203 non-null    int64  \n",
      " 3   School_Name  203 non-null    object \n",
      " 4   School_Type  203 non-null    object \n",
      " 5   Ward         203 non-null    int64  \n",
      " 6   STAR_Score   203 non-null    float64\n",
      " 7   STAR_Rating  203 non-null    int64  \n",
      " 8   ObjectId     203 non-null    int64  \n",
      "dtypes: float64(1), int64(5), object(3)\n",
      "memory usage: 14.4+ KB\n"
     ]
    }
   ],
   "source": [
    "star_19.columns = star_19.columns.str.replace(\"Framework_\", \"\")\n",
    "star_19.columns = star_19.columns.str.replace(\" \", \"_\")\n",
    "#star_19 = star_19.drop(['School_Year'], axis=1)\n",
    "star_18.columns = star_18.columns.str.replace(\" \", \"_\")\n",
    "\n",
    "star_19.info()\n",
    "star_18.info()"
   ]
  },
  {
   "cell_type": "code",
   "execution_count": 6,
   "id": "cc18c754-4240-4091-bada-692e25561f4a",
   "metadata": {},
   "outputs": [
    {
     "data": {
      "text/plain": [
       "Index(['LEA_Code', 'LEA_Name', 'School_Code', 'School_Name', 'School_Type',\n",
       "       'Ward', 'Accountability_Framework', 'Framework_Weight',\n",
       "       'Framework_Points_Earned', 'Framework_Points_Possible',\n",
       "       'Framework_STAR_Score', 'Framework_STAR_Rating', 'School_Year'],\n",
       "      dtype='object')"
      ]
     },
     "execution_count": 6,
     "metadata": {},
     "output_type": "execute_result"
    }
   ],
   "source": [
    "star_19.columns"
   ]
  },
  {
   "cell_type": "markdown",
   "id": "8caa7f6c",
   "metadata": {
    "id": "8caa7f6c"
   },
   "source": [
    "## Merge years together"
   ]
  },
  {
   "cell_type": "code",
   "execution_count": 5,
   "id": "ec361606-35a3-42f4-9e9e-545235bcbcf8",
   "metadata": {},
   "outputs": [
    {
     "data": {
      "text/plain": [
       "Index(['LEA_Code', 'LEA_Name', 'School_Code', 'School_Name', 'School_Type',\n",
       "       'Ward', 'STAR_Score', 'STAR_Rating', 'ObjectId'],\n",
       "      dtype='object')"
      ]
     },
     "execution_count": 5,
     "metadata": {},
     "output_type": "execute_result"
    }
   ],
   "source": [
    "star_18.columns"
   ]
  },
  {
   "cell_type": "code",
   "execution_count": 6,
   "id": "5e0ee480-e529-44b6-8e6f-6919b8df7b17",
   "metadata": {},
   "outputs": [
    {
     "data": {
      "text/plain": [
       "Index(['LEA_Code', 'LEA_Name', 'School_Code', 'School_Name', 'School_Type',\n",
       "       'Ward', 'Accountability_Framework', 'Framework_Weight',\n",
       "       'Framework_Points_Earned', 'Framework_Points_Possible',\n",
       "       'Framework_STAR_Score', 'Framework_STAR_Rating', 'School_Year'],\n",
       "      dtype='object')"
      ]
     },
     "execution_count": 6,
     "metadata": {},
     "output_type": "execute_result"
    }
   ],
   "source": [
    "star_19.columns"
   ]
  },
  {
   "cell_type": "code",
   "execution_count": 7,
   "id": "b7266fcf",
   "metadata": {
    "colab": {
     "base_uri": "https://localhost:8080/",
     "height": 206
    },
    "id": "b7266fcf",
    "outputId": "8789d8a8-9f6b-4665-8a59-2c5f27e6779f"
   },
   "outputs": [
    {
     "ename": "KeyError",
     "evalue": "\"['STAR_Score', 'STAR_Rating'] not in index\"",
     "output_type": "error",
     "traceback": [
      "\u001b[0;31m---------------------------------------------------------------------------\u001b[0m",
      "\u001b[0;31mKeyError\u001b[0m                                  Traceback (most recent call last)",
      "Input \u001b[0;32mIn [7]\u001b[0m, in \u001b[0;36m<cell line: 2>\u001b[0;34m()\u001b[0m\n\u001b[1;32m      1\u001b[0m \u001b[38;5;66;03m#star_18.reset_index()\u001b[39;00m\n\u001b[0;32m----> 2\u001b[0m star \u001b[38;5;241m=\u001b[39m star_18[[\u001b[38;5;124m'\u001b[39m\u001b[38;5;124mSchool_Code\u001b[39m\u001b[38;5;124m'\u001b[39m, \u001b[38;5;124m'\u001b[39m\u001b[38;5;124mSTAR_Score\u001b[39m\u001b[38;5;124m'\u001b[39m, \u001b[38;5;124m'\u001b[39m\u001b[38;5;124mSTAR_Rating\u001b[39m\u001b[38;5;124m'\u001b[39m]]\u001b[38;5;241m.\u001b[39mmerge(\u001b[43mstar_19\u001b[49m\u001b[43m[\u001b[49m\u001b[43m[\u001b[49m\u001b[38;5;124;43m'\u001b[39;49m\u001b[38;5;124;43mSchool_Code\u001b[39;49m\u001b[38;5;124;43m'\u001b[39;49m\u001b[43m,\u001b[49m\u001b[43m \u001b[49m\u001b[38;5;124;43m'\u001b[39;49m\u001b[38;5;124;43mSTAR_Score\u001b[39;49m\u001b[38;5;124;43m'\u001b[39;49m\u001b[43m,\u001b[49m\u001b[43m \u001b[49m\u001b[38;5;124;43m'\u001b[39;49m\u001b[38;5;124;43mSTAR_Rating\u001b[39;49m\u001b[38;5;124;43m'\u001b[39;49m\u001b[43m]\u001b[49m\u001b[43m]\u001b[49m, on\u001b[38;5;241m=\u001b[39m\u001b[38;5;124m'\u001b[39m\u001b[38;5;124mSchool_Code\u001b[39m\u001b[38;5;124m'\u001b[39m, suffixes\u001b[38;5;241m=\u001b[39m(\u001b[38;5;124m'\u001b[39m\u001b[38;5;124m_18\u001b[39m\u001b[38;5;124m'\u001b[39m, \u001b[38;5;124m'\u001b[39m\u001b[38;5;124m_19\u001b[39m\u001b[38;5;124m'\u001b[39m))\n\u001b[1;32m      3\u001b[0m star\u001b[38;5;241m.\u001b[39mhead()\n",
      "File \u001b[0;32m~/opt/anaconda3/lib/python3.9/site-packages/pandas/core/frame.py:3511\u001b[0m, in \u001b[0;36mDataFrame.__getitem__\u001b[0;34m(self, key)\u001b[0m\n\u001b[1;32m   3509\u001b[0m     \u001b[38;5;28;01mif\u001b[39;00m is_iterator(key):\n\u001b[1;32m   3510\u001b[0m         key \u001b[38;5;241m=\u001b[39m \u001b[38;5;28mlist\u001b[39m(key)\n\u001b[0;32m-> 3511\u001b[0m     indexer \u001b[38;5;241m=\u001b[39m \u001b[38;5;28;43mself\u001b[39;49m\u001b[38;5;241;43m.\u001b[39;49m\u001b[43mcolumns\u001b[49m\u001b[38;5;241;43m.\u001b[39;49m\u001b[43m_get_indexer_strict\u001b[49m\u001b[43m(\u001b[49m\u001b[43mkey\u001b[49m\u001b[43m,\u001b[49m\u001b[43m \u001b[49m\u001b[38;5;124;43m\"\u001b[39;49m\u001b[38;5;124;43mcolumns\u001b[39;49m\u001b[38;5;124;43m\"\u001b[39;49m\u001b[43m)\u001b[49m[\u001b[38;5;241m1\u001b[39m]\n\u001b[1;32m   3513\u001b[0m \u001b[38;5;66;03m# take() does not accept boolean indexers\u001b[39;00m\n\u001b[1;32m   3514\u001b[0m \u001b[38;5;28;01mif\u001b[39;00m \u001b[38;5;28mgetattr\u001b[39m(indexer, \u001b[38;5;124m\"\u001b[39m\u001b[38;5;124mdtype\u001b[39m\u001b[38;5;124m\"\u001b[39m, \u001b[38;5;28;01mNone\u001b[39;00m) \u001b[38;5;241m==\u001b[39m \u001b[38;5;28mbool\u001b[39m:\n",
      "File \u001b[0;32m~/opt/anaconda3/lib/python3.9/site-packages/pandas/core/indexes/base.py:5782\u001b[0m, in \u001b[0;36mIndex._get_indexer_strict\u001b[0;34m(self, key, axis_name)\u001b[0m\n\u001b[1;32m   5779\u001b[0m \u001b[38;5;28;01melse\u001b[39;00m:\n\u001b[1;32m   5780\u001b[0m     keyarr, indexer, new_indexer \u001b[38;5;241m=\u001b[39m \u001b[38;5;28mself\u001b[39m\u001b[38;5;241m.\u001b[39m_reindex_non_unique(keyarr)\n\u001b[0;32m-> 5782\u001b[0m \u001b[38;5;28;43mself\u001b[39;49m\u001b[38;5;241;43m.\u001b[39;49m\u001b[43m_raise_if_missing\u001b[49m\u001b[43m(\u001b[49m\u001b[43mkeyarr\u001b[49m\u001b[43m,\u001b[49m\u001b[43m \u001b[49m\u001b[43mindexer\u001b[49m\u001b[43m,\u001b[49m\u001b[43m \u001b[49m\u001b[43maxis_name\u001b[49m\u001b[43m)\u001b[49m\n\u001b[1;32m   5784\u001b[0m keyarr \u001b[38;5;241m=\u001b[39m \u001b[38;5;28mself\u001b[39m\u001b[38;5;241m.\u001b[39mtake(indexer)\n\u001b[1;32m   5785\u001b[0m \u001b[38;5;28;01mif\u001b[39;00m \u001b[38;5;28misinstance\u001b[39m(key, Index):\n\u001b[1;32m   5786\u001b[0m     \u001b[38;5;66;03m# GH 42790 - Preserve name from an Index\u001b[39;00m\n",
      "File \u001b[0;32m~/opt/anaconda3/lib/python3.9/site-packages/pandas/core/indexes/base.py:5845\u001b[0m, in \u001b[0;36mIndex._raise_if_missing\u001b[0;34m(self, key, indexer, axis_name)\u001b[0m\n\u001b[1;32m   5842\u001b[0m     \u001b[38;5;28;01mraise\u001b[39;00m \u001b[38;5;167;01mKeyError\u001b[39;00m(\u001b[38;5;124mf\u001b[39m\u001b[38;5;124m\"\u001b[39m\u001b[38;5;124mNone of [\u001b[39m\u001b[38;5;132;01m{\u001b[39;00mkey\u001b[38;5;132;01m}\u001b[39;00m\u001b[38;5;124m] are in the [\u001b[39m\u001b[38;5;132;01m{\u001b[39;00maxis_name\u001b[38;5;132;01m}\u001b[39;00m\u001b[38;5;124m]\u001b[39m\u001b[38;5;124m\"\u001b[39m)\n\u001b[1;32m   5844\u001b[0m not_found \u001b[38;5;241m=\u001b[39m \u001b[38;5;28mlist\u001b[39m(ensure_index(key)[missing_mask\u001b[38;5;241m.\u001b[39mnonzero()[\u001b[38;5;241m0\u001b[39m]]\u001b[38;5;241m.\u001b[39munique())\n\u001b[0;32m-> 5845\u001b[0m \u001b[38;5;28;01mraise\u001b[39;00m \u001b[38;5;167;01mKeyError\u001b[39;00m(\u001b[38;5;124mf\u001b[39m\u001b[38;5;124m\"\u001b[39m\u001b[38;5;132;01m{\u001b[39;00mnot_found\u001b[38;5;132;01m}\u001b[39;00m\u001b[38;5;124m not in index\u001b[39m\u001b[38;5;124m\"\u001b[39m)\n",
      "\u001b[0;31mKeyError\u001b[0m: \"['STAR_Score', 'STAR_Rating'] not in index\""
     ]
    }
   ],
   "source": [
    "#star_18.reset_index()\n",
    "star = star_18[['School_Code', 'STAR_Score', 'STAR_Rating']].merge(star_19[['School_Code', 'STAR_Score', 'STAR_Rating']], on='School_Code', suffixes=('_18', '_19'))\n",
    "star.head() \n",
    "                               "
   ]
  },
  {
   "cell_type": "code",
   "execution_count": null,
   "id": "c5b2718e",
   "metadata": {
    "id": "c5b2718e"
   },
   "outputs": [],
   "source": [
    "star['STAR_Score_inc'] = star.STAR_Score_18 - star.STAR_Score_19\n",
    "star['STAR_Score_change'] = star[['STAR_Score_18', 'STAR_Score_19']].pct_change(axis='columns', periods=-1)['STAR_Score_18']\n",
    "star['STAR_Score_inc'] = star.STAR_Rating_18 - star.STAR_Rating_19\n",
    "star['STAR_Rating_change'] = star[['STAR_Rating_18', 'STAR_Rating_19']].pct_change(axis='columns', periods=-1)['STAR_Rating_18']"
   ]
  },
  {
   "cell_type": "code",
   "execution_count": null,
   "id": "cfe57c0d",
   "metadata": {
    "colab": {
     "base_uri": "https://localhost:8080/",
     "height": 206
    },
    "id": "cfe57c0d",
    "outputId": "c538c7f4-65dc-48aa-d696-9df1c0b4ad2d"
   },
   "outputs": [],
   "source": [
    "star.head()"
   ]
  },
  {
   "cell_type": "code",
   "execution_count": null,
   "id": "04f67f72",
   "metadata": {
    "id": "04f67f72"
   },
   "outputs": [],
   "source": [
    "#turn back to csv file \n",
    "star.to_csv(\"../Dataset/final_data/star.csv\")"
   ]
  },
  {
   "cell_type": "code",
   "execution_count": null,
   "id": "30488139",
   "metadata": {
    "id": "30488139"
   },
   "outputs": [],
   "source": []
  },
  {
   "cell_type": "code",
   "execution_count": null,
   "id": "11a1e551-5915-45e0-9fe6-36989c8bb4f0",
   "metadata": {},
   "outputs": [],
   "source": []
  }
 ],
 "metadata": {
  "colab": {
   "provenance": []
  },
  "kernelspec": {
   "display_name": "Python 3 (ipykernel)",
   "language": "python",
   "name": "python3"
  },
  "language_info": {
   "codemirror_mode": {
    "name": "ipython",
    "version": 3
   },
   "file_extension": ".py",
   "mimetype": "text/x-python",
   "name": "python",
   "nbconvert_exporter": "python",
   "pygments_lexer": "ipython3",
   "version": "3.9.12"
  }
 },
 "nbformat": 4,
 "nbformat_minor": 5
}
