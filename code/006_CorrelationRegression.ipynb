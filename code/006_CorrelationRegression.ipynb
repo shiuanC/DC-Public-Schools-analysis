{
 "cells": [
  {
   "cell_type": "code",
   "execution_count": 1,
   "id": "9e37191e",
   "metadata": {},
   "outputs": [],
   "source": [
    "import pandas as pd\n",
    "import numpy as np\n",
    "\n",
    "from statsmodels.compat import lzip\n",
    "import numpy as np\n",
    "import matplotlib.pyplot as plt\n",
    "import statsmodels.api as sm\n",
    "from statsmodels.formula.api import ols"
   ]
  },
  {
   "cell_type": "code",
   "execution_count": 2,
   "id": "82ee5233",
   "metadata": {},
   "outputs": [],
   "source": [
    "all_df = pd.read_csv(\"../Dataset/final_data/final_data.csv\")"
   ]
  },
  {
   "cell_type": "code",
   "execution_count": 3,
   "id": "d9b987a4",
   "metadata": {},
   "outputs": [],
   "source": [
    "all_df['risk'] = [0 if r < 50 else 1 for r in all_df['diversity_At-Risk_(%)']]"
   ]
  },
  {
   "cell_type": "code",
   "execution_count": 4,
   "id": "f59397cc",
   "metadata": {},
   "outputs": [
    {
     "data": {
      "text/plain": [
       "Index(['Unnamed: 0', 'Unnamed: 0_x', 'School_Code', 'STAR_Score_18',\n",
       "       'STAR_Rating_18', 'STAR_Score_19', 'STAR_Rating_19', 'STAR_Score_inc',\n",
       "       'STAR_Score_change', 'STAR_Rating_change', 'Unnamed: 0_y', 'schoolname',\n",
       "       'level', 'schtype_raw_DC', 'Dist_Code', 'distname',\n",
       "       'pp_total_raw_DC_1819', 'pp_site_raw_DC_1819',\n",
       "       'pp_centshare_raw_DC_1819', 'schoolstloc_raw_DC_1819',\n",
       "       'enroll_raw_DC_1819', 'pp_total_raw_DC_1920', 'pp_site_raw_DC_1920',\n",
       "       'pp_centshare_raw_DC_1920', 'schoolstloc_raw_DC_1920',\n",
       "       'enroll_raw_DC_1920', 'pp_total_raw_DC_inc(%)', 'pp_total_raw_DC_inc',\n",
       "       'pp_site_raw_DC_inc(%)', 'pp_site_raw_DC_inc',\n",
       "       'pp_centshare_raw_DC_inc(%)', 'pp_centshare_raw_DC_inc',\n",
       "       'schoolstloc_raw_DC_inc(%)', 'schoolstloc_raw_DC_inc',\n",
       "       'enroll_raw_DC_inc(%)', 'enroll_raw_DC_inc', 'diversity_Unnamed: 0',\n",
       "       'Ward', 'Total_Count_of_Students', 'diversity_At-Risk_(%)',\n",
       "       'diversity_Socieconomic_Diversity_Score,_2018-19_(%)',\n",
       "       'diversity_Socieconomic_Diversity_Score,_2016-17_(%)',\n",
       "       'diversity_Change_in_Socieconomic_Diversity_Score,_from_2016-17_to_2018-19_(percentage_points)',\n",
       "       'diversity_risk_level', 'risk'],\n",
       "      dtype='object')"
      ]
     },
     "execution_count": 4,
     "metadata": {},
     "output_type": "execute_result"
    }
   ],
   "source": [
    "all_df.columns\n"
   ]
  },
  {
   "cell_type": "markdown",
   "id": "f181999c",
   "metadata": {},
   "source": [
    "# Regression Model "
   ]
  },
  {
   "cell_type": "markdown",
   "id": "0fc7fdad",
   "metadata": {},
   "source": [
    "## Analyzing the effect of change in per-pupil expenditures on the change in STAR score "
   ]
  },
  {
   "cell_type": "code",
   "execution_count": 15,
   "id": "833e3bfe",
   "metadata": {},
   "outputs": [
    {
     "name": "stdout",
     "output_type": "stream",
     "text": [
      "                            OLS Regression Results                            \n",
      "==============================================================================\n",
      "Dep. Variable:     enroll_raw_DC_1920   R-squared:                       0.085\n",
      "Model:                            OLS   Adj. R-squared:                  0.081\n",
      "Method:                 Least Squares   F-statistic:                     21.26\n",
      "Date:                Tue, 06 Dec 2022   Prob (F-statistic):           6.69e-06\n",
      "Time:                        16:20:29   Log-Likelihood:                -1564.4\n",
      "No. Observations:                 230   AIC:                             3133.\n",
      "Df Residuals:                     228   BIC:                             3140.\n",
      "Df Model:                           1                                         \n",
      "Covariance Type:            nonrobust                                         \n",
      "========================================================================================\n",
      "                           coef    std err          t      P>|t|      [0.025      0.975]\n",
      "----------------------------------------------------------------------------------------\n",
      "Intercept              688.6891     58.525     11.767      0.000     573.370     804.008\n",
      "pp_total_raw_DC_1920    -0.0118      0.003     -4.611      0.000      -0.017      -0.007\n",
      "==============================================================================\n",
      "Omnibus:                      164.005   Durbin-Watson:                   1.277\n",
      "Prob(Omnibus):                  0.000   Jarque-Bera (JB):             1584.406\n",
      "Skew:                           2.778   Prob(JB):                         0.00\n",
      "Kurtosis:                      14.596   Cond. No.                     9.30e+04\n",
      "==============================================================================\n",
      "\n",
      "Notes:\n",
      "[1] Standard Errors assume that the covariance matrix of the errors is correctly specified.\n",
      "[2] The condition number is large, 9.3e+04. This might indicate that there are\n",
      "strong multicollinearity or other numerical problems.\n"
     ]
    }
   ],
   "source": [
    "prestige_model = ols(\"enroll_raw_DC_1920 ~ pp_total_raw_DC_1920\", data=all_df).fit()\n",
    "print(prestige_model.summary())"
   ]
  },
  {
   "cell_type": "code",
   "execution_count": 13,
   "id": "1005231b",
   "metadata": {},
   "outputs": [
    {
     "data": {
      "image/png": "[encoded data removed]",
      "text/plain": [
       "<Figure size 640x480 with 1 Axes>"
      ]
     },
     "metadata": {},
     "output_type": "display_data"
    },
    {
     "data": {
      "text/plain": [
       "<ggplot: (351421395)>"
      ]
     },
     "execution_count": 13,
     "metadata": {},
     "output_type": "execute_result"
    }
   ],
   "source": [
    "from plotnine import *\n",
    "(ggplot( all_df, aes(x='Ward', y='risk')) +\n",
    "    geom_col())"
   ]
  },
  {
   "cell_type": "code",
   "execution_count": 26,
   "id": "2d6fafdf",
   "metadata": {},
   "outputs": [
    {
     "name": "stdout",
     "output_type": "stream",
     "text": [
      "                            OLS Regression Results                            \n",
      "==============================================================================\n",
      "Dep. Variable:          STAR_Score_19   R-squared:                       0.130\n",
      "Model:                            OLS   Adj. R-squared:                  0.127\n",
      "Method:                 Least Squares   F-statistic:                     34.34\n",
      "Date:                Tue, 06 Dec 2022   Prob (F-statistic):           1.60e-08\n",
      "Time:                        16:37:48   Log-Likelihood:                -1022.6\n",
      "No. Observations:                 231   AIC:                             2049.\n",
      "Df Residuals:                     229   BIC:                             2056.\n",
      "Df Model:                           1                                         \n",
      "Covariance Type:            nonrobust                                         \n",
      "========================================================================================\n",
      "                           coef    std err          t      P>|t|      [0.025      0.975]\n",
      "----------------------------------------------------------------------------------------\n",
      "Intercept               83.5295      5.564     15.012      0.000      72.566      94.493\n",
      "pp_total_raw_DC_1819    -0.0015      0.000     -5.860      0.000      -0.002      -0.001\n",
      "==============================================================================\n",
      "Omnibus:                        7.378   Durbin-Watson:                   1.922\n",
      "Prob(Omnibus):                  0.025   Jarque-Bera (JB):                3.868\n",
      "Skew:                           0.019   Prob(JB):                        0.145\n",
      "Kurtosis:                       2.367   Cond. No.                     9.16e+04\n",
      "==============================================================================\n",
      "\n",
      "Notes:\n",
      "[1] Standard Errors assume that the covariance matrix of the errors is correctly specified.\n",
      "[2] The condition number is large, 9.16e+04. This might indicate that there are\n",
      "strong multicollinearity or other numerical problems.\n"
     ]
    }
   ],
   "source": [
    "star_pp = ols(\"STAR_Score_19~ pp_total_raw_DC_1819\", data=all_df).fit()\n",
    "print(star_pp.summary())"
   ]
  },
  {
   "cell_type": "code",
   "execution_count": 27,
   "id": "2ae553ce",
   "metadata": {},
   "outputs": [
    {
     "name": "stdout",
     "output_type": "stream",
     "text": [
      "                            OLS Regression Results                            \n",
      "==============================================================================\n",
      "Dep. Variable:          STAR_Score_19   R-squared:                       0.130\n",
      "Model:                            OLS   Adj. R-squared:                  0.127\n",
      "Method:                 Least Squares   F-statistic:                     34.34\n",
      "Date:                Tue, 06 Dec 2022   Prob (F-statistic):           1.60e-08\n",
      "Time:                        16:38:22   Log-Likelihood:                -1022.6\n",
      "No. Observations:                 231   AIC:                             2049.\n",
      "Df Residuals:                     229   BIC:                             2056.\n",
      "Df Model:                           1                                         \n",
      "Covariance Type:            nonrobust                                         \n",
      "========================================================================================\n",
      "                           coef    std err          t      P>|t|      [0.025      0.975]\n",
      "----------------------------------------------------------------------------------------\n",
      "Intercept               83.5295      5.564     15.012      0.000      72.566      94.493\n",
      "pp_total_raw_DC_1819    -0.0015      0.000     -5.860      0.000      -0.002      -0.001\n",
      "==============================================================================\n",
      "Omnibus:                        7.378   Durbin-Watson:                   1.922\n",
      "Prob(Omnibus):                  0.025   Jarque-Bera (JB):                3.868\n",
      "Skew:                           0.019   Prob(JB):                        0.145\n",
      "Kurtosis:                       2.367   Cond. No.                     9.16e+04\n",
      "==============================================================================\n",
      "\n",
      "Notes:\n",
      "[1] Standard Errors assume that the covariance matrix of the errors is correctly specified.\n",
      "[2] The condition number is large, 9.16e+04. This might indicate that there are\n",
      "strong multicollinearity or other numerical problems.\n"
     ]
    }
   ],
   "source": [
    "star_enr = ols(\"STAR_Score_19~ enroll_raw_DC_1920\", data=all_df).fit()\n",
    "print(star_pp.summary())"
   ]
  },
  {
   "cell_type": "code",
   "execution_count": 29,
   "id": "866b86db",
   "metadata": {},
   "outputs": [
    {
     "name": "stdout",
     "output_type": "stream",
     "text": [
      "                             OLS Regression Results                             \n",
      "================================================================================\n",
      "Dep. Variable:     pp_total_raw_DC_1819   R-squared:                       0.081\n",
      "Model:                              OLS   Adj. R-squared:                  0.077\n",
      "Method:                   Least Squares   F-statistic:                     20.29\n",
      "Date:                  Tue, 06 Dec 2022   Prob (F-statistic):           1.06e-05\n",
      "Time:                          17:05:12   Log-Likelihood:                -2298.6\n",
      "No. Observations:                   231   AIC:                             4601.\n",
      "Df Residuals:                       229   BIC:                             4608.\n",
      "Df Model:                             1                                         \n",
      "Covariance Type:              nonrobust                                         \n",
      "==============================================================================\n",
      "                 coef    std err          t      P>|t|      [0.025      0.975]\n",
      "------------------------------------------------------------------------------\n",
      "Intercept   1.977e+04    488.040     40.509      0.000    1.88e+04    2.07e+04\n",
      "risk        3024.6834    671.555      4.504      0.000    1701.468    4347.899\n",
      "==============================================================================\n",
      "Omnibus:                      285.467   Durbin-Watson:                   1.799\n",
      "Prob(Omnibus):                  0.000   Jarque-Bera (JB):            18726.999\n",
      "Skew:                           5.218   Prob(JB):                         0.00\n",
      "Kurtosis:                      45.857   Cond. No.                         2.69\n",
      "==============================================================================\n",
      "\n",
      "Notes:\n",
      "[1] Standard Errors assume that the covariance matrix of the errors is correctly specified.\n"
     ]
    }
   ],
   "source": [
    "pp_risk = ols(\"pp_total_raw_DC_1819~risk\", data=all_df).fit()\n",
    "print(pp_risk.summary())"
   ]
  }
 ],
 "metadata": {
  "kernelspec": {
   "display_name": "Python 3.9.12 ('base')",
   "language": "python",
   "name": "python3"
  },
  "language_info": {
   "codemirror_mode": {
    "name": "ipython",
    "version": 3
   },
   "file_extension": ".py",
   "mimetype": "text/x-python",
   "name": "python",
   "nbconvert_exporter": "python",
   "pygments_lexer": "ipython3",
   "version": "3.9.12"
  },
  "vscode": {
   "interpreter": {
    "hash": "38cca0c38332a56087b24af0bc80247f4fced29cb4f7f437d91dc159adec9c4e"
   }
  }
 },
 "nbformat": 4,
 "nbformat_minor": 5
}
