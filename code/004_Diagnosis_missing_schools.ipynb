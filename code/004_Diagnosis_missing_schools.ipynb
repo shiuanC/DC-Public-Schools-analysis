{
  "cells": [
    {
      "cell_type": "code",
      "execution_count": null,
      "id": "62564110",
      "metadata": {
        "id": "62564110"
      },
      "outputs": [],
      "source": [
        "import pandas as pd\n",
        "import numpy as np\n",
        "\n",
        "from itertools import combinations"
      ]
    },
    {
      "cell_type": "markdown",
      "source": [
        "# Diagnosis of which schools are missing"
      ],
      "metadata": {
        "id": "CW7txyGV-zd6"
      },
      "id": "CW7txyGV-zd6"
    },
    {
      "cell_type": "markdown",
      "source": [
        "## diagnosis of which schools are missing due to missing STAR or spending data"
      ],
      "metadata": {
        "id": "UEuixhsE-2E6"
      },
      "id": "UEuixhsE-2E6"
    },
    {
      "cell_type": "code",
      "execution_count": null,
      "id": "6a99b3fb",
      "metadata": {
        "id": "6a99b3fb"
      },
      "outputs": [],
      "source": [
        "DC_finance_2018=pd.read_excel(\"../Dataset/NCES/DC_1819.xlsx\")\n",
        "DC_STAR_2018=pd.read_csv(\"../Dataset/OSSEDC/2018/2018_STAR_Score.csv\")\n",
        "DC_finance_2019=pd.read_excel(\"../Dataset/NCES/DC_1920.xlsx\")\n",
        "DC_STAR_2019=pd.read_csv(\"../Dataset/OSSEDC/2019/2019_STAR_Score.csv\")\n",
        "\n",
        "DC_STAR_2019.columns = DC_STAR_2019.columns.str.replace(\" \", \"_\")\n",
        "DC_STAR_2019.columns = DC_STAR_2019.columns.str.replace(\"Framework_\", \"\")\n",
        "\n",
        "DC_STAR_2018.columns = DC_STAR_2018.columns.str.replace(\" \", \"_\")"
      ]
    },
    {
      "cell_type": "code",
      "source": [
        "DC_full_STAR_2018=pd.merge(DC_finance_2018,DC_STAR_2018,\n",
        "                           left_on=\"schoolid_stateassigned\",right_on=\"School_Code\",how=\"inner\")\n",
        "DC_full_STAR_2019=pd.merge(DC_finance_2019,DC_STAR_2019,\n",
        "                           left_on=\"schoolid_stateassigned\",right_on=\"School_Code\",how=\"inner\")"
      ],
      "metadata": {
        "id": "6J0slvU8--0T"
      },
      "id": "6J0slvU8--0T",
      "execution_count": null,
      "outputs": []
    },
    {
      "cell_type": "code",
      "source": [
        "miss_financial_2018 = DC_STAR_2018[-DC_STAR_2018[\"School_Code\"].isin(DC_finance_2018.schoolid_stateassigned)]\n",
        "miss_financial_2019 = DC_STAR_2019[-DC_STAR_2019[\"School_Code\"].isin(DC_finance_2019.schoolid_stateassigned)]\n",
        "\n",
        "miss_star_2018 = DC_finance_2018[-DC_finance_2018.schoolid_stateassigned.isin(DC_STAR_2018[\"School_Code\"])]\n",
        "miss_star_2019 = DC_finance_2019[-DC_finance_2018.schoolid_stateassigned.isin(DC_STAR_2019[\"School_Code\"])]"
      ],
      "metadata": {
        "id": "nHK_I-Kk_Jty"
      },
      "id": "nHK_I-Kk_Jty",
      "execution_count": null,
      "outputs": []
    },
    {
      "cell_type": "code",
      "source": [
        "print(\"Number of STAR without finanicial data is: \",\n",
        "      miss_financial_2018.shape[0])\n",
        "print(\"Number of schools doesn't have a STAR score is :\",\n",
        "      miss_star_2018.shape[0])\n",
        "\n",
        "print(\"Number of STAR without finanicial data is: \",\n",
        "      miss_financial_2019.shape[0])\n",
        "print(\"Number of schools doesn't have a STAR score is :\",\n",
        "      miss_star_2019.shape[0])"
      ],
      "metadata": {
        "colab": {
          "base_uri": "https://localhost:8080/"
        },
        "id": "DTLMbPsR_MR9",
        "outputId": "3649dc61-ff09-4345-8148-240a9c4ddebc"
      },
      "id": "DTLMbPsR_MR9",
      "execution_count": null,
      "outputs": [
        {
          "output_type": "stream",
          "name": "stdout",
          "text": [
            "Number of STAR without finanicial data is:  6\n",
            "Number of schools doesn't have a STAR score is : 45\n",
            "Number of STAR without finanicial data is:  10\n",
            "Number of schools doesn't have a STAR score is : 40\n"
          ]
        }
      ]
    },
    {
      "cell_type": "markdown",
      "source": [
        "### analysis school type"
      ],
      "metadata": {
        "id": "4OpLGsIm_kFW"
      },
      "id": "4OpLGsIm_kFW"
    },
    {
      "cell_type": "code",
      "source": [
        "\n",
        "print(\"The school type with the most missing star data in 2018 was\", miss_star_2018['schtype_raw_DC'].value_counts().index[0], \n",
        "      ',', miss_star_2018['schtype_raw_DC'].value_counts()[0], \"schools of this type miss star data\")\n",
        "print(\"The school type with the most missing financial data in 2018 was\", miss_financial_2018['School_Type'].value_counts().index[0], \n",
        "      ',', miss_financial_2018['School_Type'].value_counts()[0], \"schools of this type miss financial data\")\n",
        "\n",
        "\n",
        "print(\"The school type with the most missing star data in 2019 was\", miss_star_2019['schtype_raw_DC'].value_counts().index[0], \n",
        "      ',', miss_star_2019['schtype_raw_DC'].value_counts()[0], \"schools of this type miss star data\")\n",
        "print(\"The school type with the most missing financial data in 2019 was\", miss_financial_2019['School_Type'].value_counts().index[0], \n",
        "      ',', miss_financial_2019['School_Type'].value_counts()[0], \"schools of this type miss financial data\")"
      ],
      "metadata": {
        "colab": {
          "base_uri": "https://localhost:8080/"
        },
        "id": "6tIhEeE9_OQN",
        "outputId": "e681d5ac-eca1-45e6-ebcc-7fc19f6a2571"
      },
      "id": "6tIhEeE9_OQN",
      "execution_count": null,
      "outputs": [
        {
          "output_type": "stream",
          "name": "stdout",
          "text": [
            "The school type with the most missing star data in 2018 was Charter , 28 schools of this type miss star data\n",
            "The school type with the most missing financial data in 2018 was Charter , 6 schools of this type miss financial data\n",
            "The school type with the most missing star data in 2019 was Charter , 31 schools of this type miss star data\n",
            "The school type with the most missing financial data in 2019 was Charter , 10 schools of this type miss financial data\n"
          ]
        }
      ]
    },
    {
      "cell_type": "markdown",
      "source": [
        "### analysis school size"
      ],
      "metadata": {
        "id": "iVXZaDvJ_pRu"
      },
      "id": "iVXZaDvJ_pRu"
    },
    {
      "cell_type": "code",
      "source": [
        "print(\"In 2018, out of\", len(miss_star_2018), \"schools that miss star score,\", len(miss_star_2018[miss_star_2018['enroll_raw_DC']=='NRD']), \"schools don't have enrollment data.\")\n",
        "print(\"The average students number of schools that miss star score is\", round(miss_star_2018[miss_star_2018['enroll_raw_DC']!='NRD'].enroll_raw_DC.mean()),\n",
        "      \"Compare to the average students number of every school in DC is\", round(DC_finance_2018[DC_finance_2018['enroll_raw_DC']!='NRD'].enroll_raw_DC.mean()))\n",
        "\n",
        "print(\"In 2019, out of\", len(miss_star_2019), \"schools that miss star score,\", len(miss_star_2019[miss_star_2019['enroll_raw_DC']=='NRD']), \"schools don't have enrollment data.\")\n",
        "print(\"The average students number of schools that miss star score is\", round(miss_star_2019[miss_star_2019['enroll_raw_DC']!='NRD'].enroll_raw_DC.mean()),\n",
        "      \"Compare to the average students number of every school in DC is\", round(DC_finance_2019[DC_finance_2019['enroll_raw_DC']!='NRD'].enroll_raw_DC.mean()))"
      ],
      "metadata": {
        "colab": {
          "base_uri": "https://localhost:8080/"
        },
        "id": "reQh_jli_l-v",
        "outputId": "c241111b-418a-4675-cc1b-9e14b9b568e1"
      },
      "id": "reQh_jli_l-v",
      "execution_count": null,
      "outputs": [
        {
          "output_type": "stream",
          "name": "stdout",
          "text": [
            "In 2018, out of 45 schools that miss star score, 11 schools don't have enrollment data.\n",
            "The average students number of schools that miss star score is 326 Compare to the average students number of every school in DC is 394\n",
            "In 2019, out of 40 schools that miss star score, 1 schools don't have enrollment data.\n",
            "The average students number of schools that miss star score is 324 Compare to the average students number of every school in DC is 395\n"
          ]
        }
      ]
    }
  ],
  "metadata": {
    "kernelspec": {
      "display_name": "Python 3.9.12 ('base')",
      "language": "python",
      "name": "python3"
    },
    "language_info": {
      "codemirror_mode": {
        "name": "ipython",
        "version": 3
      },
      "file_extension": ".py",
      "mimetype": "text/x-python",
      "name": "python",
      "nbconvert_exporter": "python",
      "pygments_lexer": "ipython3",
      "version": "3.9.12"
    },
    "vscode": {
      "interpreter": {
        "hash": "38cca0c38332a56087b24af0bc80247f4fced29cb4f7f437d91dc159adec9c4e"
      }
    },
    "colab": {
      "provenance": []
    }
  },
  "nbformat": 4,
  "nbformat_minor": 5
}